{
 "cells": [
  {
   "cell_type": "markdown",
   "id": "15cbd94f",
   "metadata": {},
   "source": [
    "# ML Model"
   ]
  },
  {
   "cell_type": "code",
   "execution_count": 1,
   "id": "7118cb41",
   "metadata": {},
   "outputs": [],
   "source": [
    "# importing important modules\n",
    "from sklearn.model_selection import train_test_split\n",
    "from sklearn. preprocessing import StandardScaler\n",
    "from sklearn. decomposition import PCA\n",
    "from sklearn.pipeline import Pipeline\n",
    "from sklearn.linear_model import LogisticRegression\n",
    "from sklearn.tree import DecisionTreeClassifier\n",
    "from sklearn.ensemble import RandomForestClassifier\n",
    "from sklearn.model_selection import GridSearchCV\n",
    "import pandas as pd\n",
    "import numpy as np"
   ]
  },
  {
   "cell_type": "markdown",
   "id": "728d38c4",
   "metadata": {},
   "source": [
    "# Pipeline in SkLearn"
   ]
  },
  {
   "cell_type": "code",
   "execution_count": 43,
   "id": "7be45c50",
   "metadata": {
    "scrolled": true
   },
   "outputs": [
    {
     "data": {
      "text/html": [
       "<div>\n",
       "<style scoped>\n",
       "    .dataframe tbody tr th:only-of-type {\n",
       "        vertical-align: middle;\n",
       "    }\n",
       "\n",
       "    .dataframe tbody tr th {\n",
       "        vertical-align: top;\n",
       "    }\n",
       "\n",
       "    .dataframe thead th {\n",
       "        text-align: right;\n",
       "    }\n",
       "</style>\n",
       "<table border=\"1\" class=\"dataframe\">\n",
       "  <thead>\n",
       "    <tr style=\"text-align: right;\">\n",
       "      <th></th>\n",
       "      <th>radius_mean</th>\n",
       "      <th>texture_mean</th>\n",
       "      <th>perimeter_mean</th>\n",
       "      <th>area_mean</th>\n",
       "      <th>smoothness_mean</th>\n",
       "      <th>compactness_mean</th>\n",
       "      <th>concavity_mean</th>\n",
       "      <th>concave points_mean</th>\n",
       "      <th>symmetry_mean</th>\n",
       "      <th>fractal_dimension_mean</th>\n",
       "      <th>...</th>\n",
       "      <th>texture_worst</th>\n",
       "      <th>perimeter_worst</th>\n",
       "      <th>area_worst</th>\n",
       "      <th>smoothness_worst</th>\n",
       "      <th>compactness_worst</th>\n",
       "      <th>concavity_worst</th>\n",
       "      <th>concave points_worst</th>\n",
       "      <th>symmetry_worst</th>\n",
       "      <th>fractal_dimension_worst</th>\n",
       "      <th>diagnosis</th>\n",
       "    </tr>\n",
       "  </thead>\n",
       "  <tbody>\n",
       "    <tr>\n",
       "      <th>0</th>\n",
       "      <td>1.335706</td>\n",
       "      <td>-2.183545</td>\n",
       "      <td>1.526900</td>\n",
       "      <td>1.477828</td>\n",
       "      <td>1.708051</td>\n",
       "      <td>-0.152054</td>\n",
       "      <td>-0.283578</td>\n",
       "      <td>2.887302</td>\n",
       "      <td>2.646196</td>\n",
       "      <td>2.837042</td>\n",
       "      <td>...</td>\n",
       "      <td>-1.400167</td>\n",
       "      <td>2.761488</td>\n",
       "      <td>-0.224151</td>\n",
       "      <td>1.429505</td>\n",
       "      <td>-0.206236</td>\n",
       "      <td>2.497158</td>\n",
       "      <td>2.296076</td>\n",
       "      <td>0.002570</td>\n",
       "      <td>2.739080</td>\n",
       "      <td>1</td>\n",
       "    </tr>\n",
       "    <tr>\n",
       "      <th>1</th>\n",
       "      <td>2.168713</td>\n",
       "      <td>-0.336098</td>\n",
       "      <td>1.999151</td>\n",
       "      <td>2.692856</td>\n",
       "      <td>-0.858619</td>\n",
       "      <td>-0.466377</td>\n",
       "      <td>0.107062</td>\n",
       "      <td>0.680991</td>\n",
       "      <td>0.084394</td>\n",
       "      <td>-0.938952</td>\n",
       "      <td>...</td>\n",
       "      <td>-0.357761</td>\n",
       "      <td>1.873778</td>\n",
       "      <td>-0.224151</td>\n",
       "      <td>-0.369836</td>\n",
       "      <td>-0.404542</td>\n",
       "      <td>-0.084360</td>\n",
       "      <td>1.087084</td>\n",
       "      <td>-0.152067</td>\n",
       "      <td>0.548993</td>\n",
       "      <td>1</td>\n",
       "    </tr>\n",
       "    <tr>\n",
       "      <th>2</th>\n",
       "      <td>1.884587</td>\n",
       "      <td>0.533878</td>\n",
       "      <td>1.863554</td>\n",
       "      <td>2.233014</td>\n",
       "      <td>1.037027</td>\n",
       "      <td>1.359343</td>\n",
       "      <td>1.809179</td>\n",
       "      <td>2.336656</td>\n",
       "      <td>1.169045</td>\n",
       "      <td>-0.370155</td>\n",
       "      <td>...</td>\n",
       "      <td>0.005710</td>\n",
       "      <td>1.657012</td>\n",
       "      <td>2.425960</td>\n",
       "      <td>0.595436</td>\n",
       "      <td>1.460157</td>\n",
       "      <td>1.061762</td>\n",
       "      <td>1.955000</td>\n",
       "      <td>1.701432</td>\n",
       "      <td>0.443446</td>\n",
       "      <td>1</td>\n",
       "    </tr>\n",
       "    <tr>\n",
       "      <th>3</th>\n",
       "      <td>-0.785558</td>\n",
       "      <td>0.316384</td>\n",
       "      <td>-0.587475</td>\n",
       "      <td>-0.821005</td>\n",
       "      <td>-0.009925</td>\n",
       "      <td>-0.152054</td>\n",
       "      <td>2.486945</td>\n",
       "      <td>1.685632</td>\n",
       "      <td>-0.000015</td>\n",
       "      <td>-0.104601</td>\n",
       "      <td>...</td>\n",
       "      <td>0.172015</td>\n",
       "      <td>-0.188255</td>\n",
       "      <td>-0.532056</td>\n",
       "      <td>-0.018402</td>\n",
       "      <td>-0.206236</td>\n",
       "      <td>2.359931</td>\n",
       "      <td>2.175786</td>\n",
       "      <td>0.002570</td>\n",
       "      <td>-0.109206</td>\n",
       "      <td>1</td>\n",
       "    </tr>\n",
       "    <tr>\n",
       "      <th>4</th>\n",
       "      <td>2.078309</td>\n",
       "      <td>-1.193573</td>\n",
       "      <td>2.102017</td>\n",
       "      <td>2.584438</td>\n",
       "      <td>0.327875</td>\n",
       "      <td>0.750470</td>\n",
       "      <td>1.818421</td>\n",
       "      <td>1.659821</td>\n",
       "      <td>0.071733</td>\n",
       "      <td>-0.568891</td>\n",
       "      <td>...</td>\n",
       "      <td>-1.513323</td>\n",
       "      <td>1.646690</td>\n",
       "      <td>2.078659</td>\n",
       "      <td>0.267431</td>\n",
       "      <td>-0.260319</td>\n",
       "      <td>0.785112</td>\n",
       "      <td>0.729259</td>\n",
       "      <td>-0.981094</td>\n",
       "      <td>-0.348151</td>\n",
       "      <td>1</td>\n",
       "    </tr>\n",
       "  </tbody>\n",
       "</table>\n",
       "<p>5 rows × 31 columns</p>\n",
       "</div>"
      ],
      "text/plain": [
       "   radius_mean  texture_mean  perimeter_mean  area_mean  smoothness_mean  \\\n",
       "0     1.335706     -2.183545        1.526900   1.477828         1.708051   \n",
       "1     2.168713     -0.336098        1.999151   2.692856        -0.858619   \n",
       "2     1.884587      0.533878        1.863554   2.233014         1.037027   \n",
       "3    -0.785558      0.316384       -0.587475  -0.821005        -0.009925   \n",
       "4     2.078309     -1.193573        2.102017   2.584438         0.327875   \n",
       "\n",
       "   compactness_mean  concavity_mean  concave points_mean  symmetry_mean  \\\n",
       "0         -0.152054       -0.283578             2.887302       2.646196   \n",
       "1         -0.466377        0.107062             0.680991       0.084394   \n",
       "2          1.359343        1.809179             2.336656       1.169045   \n",
       "3         -0.152054        2.486945             1.685632      -0.000015   \n",
       "4          0.750470        1.818421             1.659821       0.071733   \n",
       "\n",
       "   fractal_dimension_mean  ...  texture_worst  perimeter_worst  area_worst  \\\n",
       "0                2.837042  ...      -1.400167         2.761488   -0.224151   \n",
       "1               -0.938952  ...      -0.357761         1.873778   -0.224151   \n",
       "2               -0.370155  ...       0.005710         1.657012    2.425960   \n",
       "3               -0.104601  ...       0.172015        -0.188255   -0.532056   \n",
       "4               -0.568891  ...      -1.513323         1.646690    2.078659   \n",
       "\n",
       "   smoothness_worst  compactness_worst  concavity_worst  concave points_worst  \\\n",
       "0          1.429505          -0.206236         2.497158              2.296076   \n",
       "1         -0.369836          -0.404542        -0.084360              1.087084   \n",
       "2          0.595436           1.460157         1.061762              1.955000   \n",
       "3         -0.018402          -0.206236         2.359931              2.175786   \n",
       "4          0.267431          -0.260319         0.785112              0.729259   \n",
       "\n",
       "   symmetry_worst  fractal_dimension_worst  diagnosis  \n",
       "0        0.002570                 2.739080          1  \n",
       "1       -0.152067                 0.548993          1  \n",
       "2        1.701432                 0.443446          1  \n",
       "3        0.002570                -0.109206          1  \n",
       "4       -0.981094                -0.348151          1  \n",
       "\n",
       "[5 rows x 31 columns]"
      ]
     },
     "execution_count": 43,
     "metadata": {},
     "output_type": "execute_result"
    }
   ],
   "source": [
    "# Load dataset\n",
    "df= pd.read_csv('../data/scaled_data.csv')\n",
    "df.head(5)"
   ]
  },
  {
   "cell_type": "code",
   "execution_count": 44,
   "id": "5f240162",
   "metadata": {},
   "outputs": [
    {
     "data": {
      "text/plain": [
       "(31,)"
      ]
     },
     "execution_count": 44,
     "metadata": {},
     "output_type": "execute_result"
    }
   ],
   "source": [
    "df.columns.shape"
   ]
  },
  {
   "cell_type": "code",
   "execution_count": 45,
   "id": "7c18ecba",
   "metadata": {},
   "outputs": [],
   "source": [
    "# Features from Casual Graph\n",
    "casual_features = ['radius_mean',\n",
    " 'texture_mean',\n",
    " 'perimeter_mean',\n",
    " 'compactness_mean',\n",
    " 'concavity_mean',\n",
    " 'concave points_mean',\n",
    " 'symmetry_mean',\n",
    " 'fractal_dimension_mean',\n",
    " 'radius_se',\n",
    " 'texture_se',\n",
    " 'perimeter_se',\n",
    " 'area_se',\n",
    " 'concavity_se',\n",
    " 'radius_worst',\n",
    " 'texture_worst',\n",
    " 'perimeter_worst',\n",
    " 'area_worst',\n",
    " 'compactness_worst',\n",
    " 'concavity_worst',\n",
    " 'concave points_worst',\n",
    " 'symmetry_worst']"
   ]
  },
  {
   "cell_type": "markdown",
   "id": "d043757d",
   "metadata": {},
   "source": [
    "# Pipeline Using the whole Data"
   ]
  },
  {
   "cell_type": "code",
   "execution_count": 46,
   "id": "f2f3713f",
   "metadata": {
    "scrolled": true
   },
   "outputs": [
    {
     "name": "stdout",
     "output_type": "stream",
     "text": [
      "X shape (569, 30)\n",
      "y shape (569,)\n",
      "X_train shape (549, 30)\n",
      "X_test shape (20, 30)\n",
      "y_train shape (549,)\n",
      "y_test shape (20,)\n"
     ]
    }
   ],
   "source": [
    "X= df.iloc[:,0:30]\n",
    "y= df['diagnosis']\n",
    "\n",
    "print('X shape',X.shape)\n",
    "print('y shape',y.shape)\n",
    "\n",
    "# train_test_split\n",
    "X_train, X_test, y_train, y_test = train_test_split(X,y, test_size=20, random_state= 30)\n",
    "\n",
    "print('X_train shape', X_train.shape)\n",
    "print('X_test shape', X_test.shape)\n",
    "print('y_train shape', y_train.shape)\n",
    "print('y_test shape', y_test.shape)"
   ]
  },
  {
   "cell_type": "markdown",
   "id": "ed5bf644",
   "metadata": {},
   "source": [
    "## Logistic Regression"
   ]
  },
  {
   "cell_type": "code",
   "execution_count": 66,
   "id": "61eb7002",
   "metadata": {},
   "outputs": [],
   "source": [
    "# Pipeline Logistic Regression: \n",
    "\n",
    "pipeline_lr = Pipeline([\n",
    "    ('scaler1',StandardScaler()),\n",
    "    ('pca1', PCA(n_components=2)),\n",
    "    ('lr_classifier', LogisticRegression(random_state=0))\n",
    "])"
   ]
  },
  {
   "cell_type": "code",
   "execution_count": 74,
   "id": "c82c647c",
   "metadata": {
    "scrolled": false
   },
   "outputs": [
    {
     "data": {
      "text/plain": [
       "<AxesSubplot:>"
      ]
     },
     "execution_count": 74,
     "metadata": {},
     "output_type": "execute_result"
    },
    {
     "data": {
      "image/png": "[encoded data removed]",
      "text/plain": [
       "<Figure size 432x288 with 2 Axes>"
      ]
     },
     "metadata": {
      "needs_background": "light"
     },
     "output_type": "display_data"
    }
   ],
   "source": [
    "from sklearn.metrics import f1_score,confusion_matrix\n",
    "import seaborn as sns\n",
    "cm_2 = confusion_matrix(y_test,pipeline_lr.predict(X_test))\n",
    "sns.heatmap(cm_2,annot=True,fmt=\"d\")"
   ]
  },
  {
   "cell_type": "markdown",
   "id": "91440651",
   "metadata": {},
   "source": [
    "## Decision Tree Classifier"
   ]
  },
  {
   "cell_type": "code",
   "execution_count": 67,
   "id": "b949c667",
   "metadata": {},
   "outputs": [],
   "source": [
    "# Pipeline Decision Tree Classifier:\n",
    "\n",
    "pipeline_dtc= Pipeline([\n",
    "    ('scaler2', StandardScaler()),\n",
    "    ('pca2', PCA(n_components=2)),\n",
    "    ('dt_classifier', DecisionTreeClassifier())\n",
    "])"
   ]
  },
  {
   "cell_type": "code",
   "execution_count": 17,
   "id": "34540099",
   "metadata": {},
   "outputs": [
    {
     "data": {
      "text/plain": [
       "<AxesSubplot:>"
      ]
     },
     "execution_count": 17,
     "metadata": {},
     "output_type": "execute_result"
    },
    {
     "data": {
      "image/png": "[encoded data removed]",
      "text/plain": [
       "<Figure size 432x288 with 2 Axes>"
      ]
     },
     "metadata": {
      "needs_background": "light"
     },
     "output_type": "display_data"
    }
   ],
   "source": [
    "from sklearn.metrics import f1_score,confusion_matrix\n",
    "import seaborn as sns\n",
    "cm_2 = confusion_matrix(y_test,pipeline_dtc.predict(X_test))\n",
    "sns.heatmap(cm_2,annot=True,fmt=\"d\")"
   ]
  },
  {
   "cell_type": "markdown",
   "id": "951681fe",
   "metadata": {},
   "source": [
    "## Random Forest Classifier"
   ]
  },
  {
   "cell_type": "code",
   "execution_count": 68,
   "id": "a0d16b50",
   "metadata": {},
   "outputs": [],
   "source": [
    "# Pipeline Random Forest Classifier:\n",
    "\n",
    "pipeline_rfc = Pipeline([\n",
    "    ('scaler3', StandardScaler()),\n",
    "    ('pca2', PCA(n_components=3)),\n",
    "    ('rf_classifier', RandomForestClassifier())\n",
    "])"
   ]
  },
  {
   "cell_type": "code",
   "execution_count": 18,
   "id": "2cada6f2",
   "metadata": {
    "scrolled": true
   },
   "outputs": [
    {
     "data": {
      "text/plain": [
       "<AxesSubplot:>"
      ]
     },
     "execution_count": 18,
     "metadata": {},
     "output_type": "execute_result"
    },
    {
     "data": {
      "image/png": "[encoded data removed]",
      "text/plain": [
       "<Figure size 432x288 with 2 Axes>"
      ]
     },
     "metadata": {
      "needs_background": "light"
     },
     "output_type": "display_data"
    }
   ],
   "source": [
    "from sklearn.metrics import f1_score,confusion_matrix\n",
    "import seaborn as sns\n",
    "cm_2 = confusion_matrix(y_test,pipeline_rfc.predict(X_test))\n",
    "sns.heatmap(cm_2,annot=True,fmt=\"d\")"
   ]
  },
  {
   "cell_type": "code",
   "execution_count": 69,
   "id": "27c62757",
   "metadata": {},
   "outputs": [],
   "source": [
    "# Make the list of pipeline: \n",
    "\n",
    "pipeline = [pipeline_lr,pipeline_dtc,pipeline_rfc]\n",
    "\n",
    "best_accuracy = 0.0\n",
    "best_classifier= 0\n",
    "best_pipeline = \"\""
   ]
  },
  {
   "cell_type": "code",
   "execution_count": 70,
   "id": "41d37aed",
   "metadata": {},
   "outputs": [],
   "source": [
    "# Dictionary of pipeline and classifier types for ease of reference:\n",
    "\n",
    "pipe_dict = { 0: 'Logistic Regression', 1: 'Decision Tree', 2:'RandomForest'}\n",
    "\n",
    "# fit the pipleline \n",
    "for pipe in pipeline:\n",
    "    pipe.fit(X_train, y_train)"
   ]
  },
  {
   "cell_type": "code",
   "execution_count": 71,
   "id": "cdae8a18",
   "metadata": {},
   "outputs": [
    {
     "name": "stdout",
     "output_type": "stream",
     "text": [
      "Logistic Regression Test Accuracy: 0.9\n",
      "Decision Tree Test Accuracy: 1.0\n",
      "RandomForest Test Accuracy: 0.9\n"
     ]
    }
   ],
   "source": [
    "for i, model in enumerate(pipeline):\n",
    "    print('{} Test Accuracy: {}'.format(pipe_dict[i],model.score(X_test, y_test)))"
   ]
  },
  {
   "cell_type": "code",
   "execution_count": 72,
   "id": "bea9a42f",
   "metadata": {},
   "outputs": [
    {
     "name": "stdout",
     "output_type": "stream",
     "text": [
      "classifier with best accuracy:Decision Tree\n"
     ]
    }
   ],
   "source": [
    "for i, model in enumerate(pipeline):\n",
    "    if model.score(X_test, y_test) > best_accuracy:\n",
    "        best_accuracy= model.score(X_test, y_test)\n",
    "        best_pipeline= model\n",
    "        best_classifier= i\n",
    "print('classifier with best accuracy:{}'.format(pipe_dict[best_classifier]))"
   ]
  },
  {
   "cell_type": "code",
   "execution_count": 73,
   "id": "08deafea",
   "metadata": {
    "scrolled": false
   },
   "outputs": [
    {
     "name": "stdout",
     "output_type": "stream",
     "text": [
      "Feature ranking:\n",
      "1. feature 27 (0.696484)\n",
      "2. feature 23 (0.104808)\n",
      "3. feature 13 (0.035814)\n",
      "4. feature 24 (0.034340)\n",
      "5. feature 21 (0.024254)\n",
      "6. feature 29 (0.018801)\n",
      "7. feature 1 (0.014861)\n",
      "8. feature 22 (0.012098)\n",
      "9. feature 28 (0.011096)\n",
      "10. feature 20 (0.009730)\n",
      "11. feature 10 (0.007786)\n",
      "12. feature 26 (0.007694)\n",
      "13. feature 6 (0.007056)\n",
      "14. feature 19 (0.006527)\n",
      "15. feature 2 (0.003916)\n",
      "16. feature 8 (0.003504)\n",
      "17. feature 14 (0.001230)\n",
      "18. feature 12 (0.000000)\n",
      "19. feature 11 (0.000000)\n",
      "20. feature 15 (0.000000)\n",
      "21. feature 9 (0.000000)\n",
      "22. feature 16 (0.000000)\n",
      "23. feature 7 (0.000000)\n",
      "24. feature 17 (0.000000)\n",
      "25. feature 5 (0.000000)\n",
      "26. feature 4 (0.000000)\n",
      "27. feature 3 (0.000000)\n",
      "28. feature 18 (0.000000)\n",
      "29. feature 25 (0.000000)\n",
      "30. feature 0 (0.000000)\n"
     ]
    },
    {
     "data": {
      "image/png": "[encoded data removed]",
      "text/plain": [
       "<Figure size 1008x936 with 1 Axes>"
      ]
     },
     "metadata": {
      "needs_background": "light"
     },
     "output_type": "display_data"
    }
   ],
   "source": [
    "import matplotlib.pyplot as plt\n",
    "clf_rf_5 = DecisionTreeClassifier()      \n",
    "clr_rf_5 = clf_rf_5.fit(X_train,y_train)\n",
    "importances = clr_rf_5.feature_importances_\n",
    "# std = np.std([tree.feature_importances_ for tree in pipeline_dtc.estimators_],\n",
    "#              axis=0)\n",
    "indices = np.argsort(importances)[::-1]\n",
    "\n",
    "# Print the feature ranking\n",
    "print(\"Feature ranking:\")\n",
    "\n",
    "for f in range(X_train.shape[1]):\n",
    "    print(\"%d. feature %d (%f)\" % (f + 1, indices[f], importances[indices[f]]))\n",
    "\n",
    "# Plot the feature importances of the forest\n",
    "\n",
    "plt.figure(1, figsize=(14, 13))\n",
    "plt.title(\"Feature importances\")\n",
    "plt.bar(range(X_train.shape[1]), importances[indices],\n",
    "       color=\"g\", align=\"center\")\n",
    "plt.xticks(range(X_train.shape[1]), X_train.columns[indices],rotation=90)\n",
    "plt.xlim([-1, X_train.shape[1]])\n",
    "plt.show()"
   ]
  },
  {
   "cell_type": "code",
   "execution_count": 75,
   "id": "672c40e6",
   "metadata": {
    "scrolled": false
   },
   "outputs": [
    {
     "name": "stdout",
     "output_type": "stream",
     "text": [
      "Predicted: [0 1 0 1 0 1 0 0 0 0]\n",
      "Actual: 197    1\n",
      "351    1\n",
      "338    0\n",
      "47     1\n",
      "474    0\n",
      "24     1\n",
      "309    0\n",
      "556    0\n",
      "158    0\n",
      "364    0\n",
      "Name: diagnosis, dtype: int64\n"
     ]
    }
   ],
   "source": [
    "# Define Decision Tree Model\n",
    "dt = DecisionTreeClassifier()\n",
    "# We fit our model with our train data\n",
    "dt.fit(X_train, y_train)\n",
    "# Then predict results from X_test data\n",
    "pred_dt = dt.predict(X_test)\n",
    "\n",
    "# See First 10 Predictions and They Actual Values\n",
    "print(\"Predicted:\", pred_dt[0:10])\n",
    "print(\"Actual:\", y_test[0:10])\n"
   ]
  },
  {
   "cell_type": "code",
   "execution_count": 77,
   "id": "bde64547",
   "metadata": {},
   "outputs": [
    {
     "ename": "AttributeError",
     "evalue": "'numpy.ndarray' object has no attribute 'plot'",
     "output_type": "error",
     "traceback": [
      "\u001b[0;31m---------------------------------------------------------------------------\u001b[0m",
      "\u001b[0;31mAttributeError\u001b[0m                            Traceback (most recent call last)",
      "\u001b[0;32m/tmp/ipykernel_19221/2277888532.py\u001b[0m in \u001b[0;36m<module>\u001b[0;34m\u001b[0m\n\u001b[1;32m      9\u001b[0m \u001b[0mdf2\u001b[0m \u001b[0;34m=\u001b[0m \u001b[0my_test\u001b[0m\u001b[0;34m[\u001b[0m\u001b[0;36m0\u001b[0m\u001b[0;34m:\u001b[0m\u001b[0;36m10\u001b[0m\u001b[0;34m]\u001b[0m\u001b[0;34m\u001b[0m\u001b[0;34m\u001b[0m\u001b[0m\n\u001b[1;32m     10\u001b[0m \u001b[0;34m\u001b[0m\u001b[0m\n\u001b[0;32m---> 11\u001b[0;31m \u001b[0max\u001b[0m \u001b[0;34m=\u001b[0m \u001b[0mdf1\u001b[0m\u001b[0;34m.\u001b[0m\u001b[0mplot\u001b[0m\u001b[0;34m(\u001b[0m\u001b[0mx\u001b[0m\u001b[0;34m=\u001b[0m\u001b[0;34m'diagnosis'\u001b[0m\u001b[0;34m)\u001b[0m\u001b[0;34m\u001b[0m\u001b[0;34m\u001b[0m\u001b[0m\n\u001b[0m\u001b[1;32m     12\u001b[0m \u001b[0mdf2\u001b[0m\u001b[0;34m.\u001b[0m\u001b[0mplot\u001b[0m\u001b[0;34m(\u001b[0m\u001b[0max\u001b[0m\u001b[0;34m=\u001b[0m\u001b[0max\u001b[0m\u001b[0;34m)\u001b[0m\u001b[0;34m\u001b[0m\u001b[0;34m\u001b[0m\u001b[0m\n\u001b[1;32m     13\u001b[0m \u001b[0;34m\u001b[0m\u001b[0m\n",
      "\u001b[0;31mAttributeError\u001b[0m: 'numpy.ndarray' object has no attribute 'plot'"
     ]
    }
   ],
   "source": [
    "import pandas as pd\n",
    "from matplotlib import pyplot as plt\n",
    "\n",
    "plt.rcParams[\"figure.figsize\"] = [7.00, 3.50]\n",
    "plt.rcParams[\"figure.autolayout\"] = True\n",
    "\n",
    "df1 = pred_dt[0:10]\n",
    "\n",
    "df2 = y_test[0:10]\n",
    "\n",
    "ax = df1.plot(x='diagnosis')\n",
    "df2.plot(ax=ax)\n",
    "\n",
    "plt.show()"
   ]
  },
  {
   "cell_type": "markdown",
   "id": "7d2e8a9e",
   "metadata": {},
   "source": [
    "# Pipeline Using features extracted from casual graph"
   ]
  },
  {
   "cell_type": "code",
   "execution_count": 87,
   "id": "33941bff",
   "metadata": {},
   "outputs": [],
   "source": [
    "# Features from Casual Graph\n",
    "casual_features = ['radius_mean',\n",
    " 'texture_mean',\n",
    " 'perimeter_mean',\n",
    " 'compactness_mean',\n",
    " 'concavity_mean',\n",
    " 'concave points_mean',\n",
    " 'symmetry_mean',\n",
    " 'fractal_dimension_mean',\n",
    " 'radius_se',\n",
    " 'texture_se',\n",
    " 'perimeter_se',\n",
    " 'area_se',\n",
    " 'concavity_se',\n",
    " 'radius_worst',\n",
    " 'texture_worst',\n",
    " 'perimeter_worst',\n",
    " 'area_worst',\n",
    " 'compactness_worst',\n",
    " 'concavity_worst',\n",
    " 'concave points_worst',\n",
    " 'symmetry_worst']"
   ]
  },
  {
   "cell_type": "code",
   "execution_count": 88,
   "id": "1ea05d63",
   "metadata": {},
   "outputs": [],
   "source": [
    "causality_df = df[casual_features]"
   ]
  },
  {
   "cell_type": "code",
   "execution_count": 89,
   "id": "4397cb24",
   "metadata": {},
   "outputs": [
    {
     "data": {
      "text/html": [
       "<div>\n",
       "<style scoped>\n",
       "    .dataframe tbody tr th:only-of-type {\n",
       "        vertical-align: middle;\n",
       "    }\n",
       "\n",
       "    .dataframe tbody tr th {\n",
       "        vertical-align: top;\n",
       "    }\n",
       "\n",
       "    .dataframe thead th {\n",
       "        text-align: right;\n",
       "    }\n",
       "</style>\n",
       "<table border=\"1\" class=\"dataframe\">\n",
       "  <thead>\n",
       "    <tr style=\"text-align: right;\">\n",
       "      <th></th>\n",
       "      <th>radius_mean</th>\n",
       "      <th>texture_mean</th>\n",
       "      <th>perimeter_mean</th>\n",
       "      <th>compactness_mean</th>\n",
       "      <th>concavity_mean</th>\n",
       "      <th>concave points_mean</th>\n",
       "      <th>symmetry_mean</th>\n",
       "      <th>fractal_dimension_mean</th>\n",
       "      <th>radius_se</th>\n",
       "      <th>texture_se</th>\n",
       "      <th>...</th>\n",
       "      <th>area_se</th>\n",
       "      <th>concavity_se</th>\n",
       "      <th>radius_worst</th>\n",
       "      <th>texture_worst</th>\n",
       "      <th>perimeter_worst</th>\n",
       "      <th>area_worst</th>\n",
       "      <th>compactness_worst</th>\n",
       "      <th>concavity_worst</th>\n",
       "      <th>concave points_worst</th>\n",
       "      <th>symmetry_worst</th>\n",
       "    </tr>\n",
       "  </thead>\n",
       "  <tbody>\n",
       "    <tr>\n",
       "      <th>0</th>\n",
       "      <td>1.335706</td>\n",
       "      <td>-2.183545</td>\n",
       "      <td>1.526900</td>\n",
       "      <td>-0.152054</td>\n",
       "      <td>-0.283578</td>\n",
       "      <td>2.887302</td>\n",
       "      <td>2.646196</td>\n",
       "      <td>2.837042</td>\n",
       "      <td>-0.157898</td>\n",
       "      <td>-0.580647</td>\n",
       "      <td>...</td>\n",
       "      <td>-0.213189</td>\n",
       "      <td>1.464731</td>\n",
       "      <td>2.313300</td>\n",
       "      <td>-1.400167</td>\n",
       "      <td>2.761488</td>\n",
       "      <td>-0.224151</td>\n",
       "      <td>-0.206236</td>\n",
       "      <td>2.497158</td>\n",
       "      <td>2.296076</td>\n",
       "      <td>0.002570</td>\n",
       "    </tr>\n",
       "    <tr>\n",
       "      <th>1</th>\n",
       "      <td>2.168713</td>\n",
       "      <td>-0.336098</td>\n",
       "      <td>1.999151</td>\n",
       "      <td>-0.466377</td>\n",
       "      <td>0.107062</td>\n",
       "      <td>0.680991</td>\n",
       "      <td>0.084394</td>\n",
       "      <td>-0.938952</td>\n",
       "      <td>1.201429</td>\n",
       "      <td>-0.984975</td>\n",
       "      <td>...</td>\n",
       "      <td>2.907884</td>\n",
       "      <td>-0.523504</td>\n",
       "      <td>2.219021</td>\n",
       "      <td>-0.357761</td>\n",
       "      <td>1.873778</td>\n",
       "      <td>-0.224151</td>\n",
       "      <td>-0.404542</td>\n",
       "      <td>-0.084360</td>\n",
       "      <td>1.087084</td>\n",
       "      <td>-0.152067</td>\n",
       "    </tr>\n",
       "    <tr>\n",
       "      <th>2</th>\n",
       "      <td>1.884587</td>\n",
       "      <td>0.533878</td>\n",
       "      <td>1.863554</td>\n",
       "      <td>1.359343</td>\n",
       "      <td>1.809179</td>\n",
       "      <td>2.336656</td>\n",
       "      <td>1.169045</td>\n",
       "      <td>-0.370155</td>\n",
       "      <td>2.454141</td>\n",
       "      <td>-0.859949</td>\n",
       "      <td>...</td>\n",
       "      <td>-0.213189</td>\n",
       "      <td>0.592579</td>\n",
       "      <td>1.875747</td>\n",
       "      <td>0.005710</td>\n",
       "      <td>1.657012</td>\n",
       "      <td>2.425960</td>\n",
       "      <td>1.460157</td>\n",
       "      <td>1.061762</td>\n",
       "      <td>1.955000</td>\n",
       "      <td>1.701432</td>\n",
       "    </tr>\n",
       "    <tr>\n",
       "      <th>3</th>\n",
       "      <td>-0.785558</td>\n",
       "      <td>0.316384</td>\n",
       "      <td>-0.587475</td>\n",
       "      <td>-0.152054</td>\n",
       "      <td>2.486945</td>\n",
       "      <td>1.685632</td>\n",
       "      <td>-0.000015</td>\n",
       "      <td>-0.104601</td>\n",
       "      <td>0.904522</td>\n",
       "      <td>0.010748</td>\n",
       "      <td>...</td>\n",
       "      <td>-0.043121</td>\n",
       "      <td>1.627729</td>\n",
       "      <td>-0.217742</td>\n",
       "      <td>0.172015</td>\n",
       "      <td>-0.188255</td>\n",
       "      <td>-0.532056</td>\n",
       "      <td>-0.206236</td>\n",
       "      <td>2.359931</td>\n",
       "      <td>2.175786</td>\n",
       "      <td>0.002570</td>\n",
       "    </tr>\n",
       "    <tr>\n",
       "      <th>4</th>\n",
       "      <td>2.078309</td>\n",
       "      <td>-1.193573</td>\n",
       "      <td>2.102017</td>\n",
       "      <td>0.750470</td>\n",
       "      <td>1.818421</td>\n",
       "      <td>1.659821</td>\n",
       "      <td>0.071733</td>\n",
       "      <td>-0.568891</td>\n",
       "      <td>2.526044</td>\n",
       "      <td>-0.873160</td>\n",
       "      <td>...</td>\n",
       "      <td>-0.213189</td>\n",
       "      <td>1.643010</td>\n",
       "      <td>1.626752</td>\n",
       "      <td>-1.513323</td>\n",
       "      <td>1.646690</td>\n",
       "      <td>2.078659</td>\n",
       "      <td>-0.260319</td>\n",
       "      <td>0.785112</td>\n",
       "      <td>0.729259</td>\n",
       "      <td>-0.981094</td>\n",
       "    </tr>\n",
       "  </tbody>\n",
       "</table>\n",
       "<p>5 rows × 21 columns</p>\n",
       "</div>"
      ],
      "text/plain": [
       "   radius_mean  texture_mean  perimeter_mean  compactness_mean  \\\n",
       "0     1.335706     -2.183545        1.526900         -0.152054   \n",
       "1     2.168713     -0.336098        1.999151         -0.466377   \n",
       "2     1.884587      0.533878        1.863554          1.359343   \n",
       "3    -0.785558      0.316384       -0.587475         -0.152054   \n",
       "4     2.078309     -1.193573        2.102017          0.750470   \n",
       "\n",
       "   concavity_mean  concave points_mean  symmetry_mean  fractal_dimension_mean  \\\n",
       "0       -0.283578             2.887302       2.646196                2.837042   \n",
       "1        0.107062             0.680991       0.084394               -0.938952   \n",
       "2        1.809179             2.336656       1.169045               -0.370155   \n",
       "3        2.486945             1.685632      -0.000015               -0.104601   \n",
       "4        1.818421             1.659821       0.071733               -0.568891   \n",
       "\n",
       "   radius_se  texture_se  ...   area_se  concavity_se  radius_worst  \\\n",
       "0  -0.157898   -0.580647  ... -0.213189      1.464731      2.313300   \n",
       "1   1.201429   -0.984975  ...  2.907884     -0.523504      2.219021   \n",
       "2   2.454141   -0.859949  ... -0.213189      0.592579      1.875747   \n",
       "3   0.904522    0.010748  ... -0.043121      1.627729     -0.217742   \n",
       "4   2.526044   -0.873160  ... -0.213189      1.643010      1.626752   \n",
       "\n",
       "   texture_worst  perimeter_worst  area_worst  compactness_worst  \\\n",
       "0      -1.400167         2.761488   -0.224151          -0.206236   \n",
       "1      -0.357761         1.873778   -0.224151          -0.404542   \n",
       "2       0.005710         1.657012    2.425960           1.460157   \n",
       "3       0.172015        -0.188255   -0.532056          -0.206236   \n",
       "4      -1.513323         1.646690    2.078659          -0.260319   \n",
       "\n",
       "   concavity_worst  concave points_worst  symmetry_worst  \n",
       "0         2.497158              2.296076        0.002570  \n",
       "1        -0.084360              1.087084       -0.152067  \n",
       "2         1.061762              1.955000        1.701432  \n",
       "3         2.359931              2.175786        0.002570  \n",
       "4         0.785112              0.729259       -0.981094  \n",
       "\n",
       "[5 rows x 21 columns]"
      ]
     },
     "execution_count": 89,
     "metadata": {},
     "output_type": "execute_result"
    }
   ],
   "source": [
    "causality_df.head()"
   ]
  },
  {
   "cell_type": "code",
   "execution_count": 90,
   "id": "34c62f58",
   "metadata": {},
   "outputs": [
    {
     "name": "stdout",
     "output_type": "stream",
     "text": [
      "X shape (569, 21)\n",
      "y shape (569,)\n",
      "X_train shape (549, 21)\n",
      "X_test shape (20, 21)\n",
      "y_train shape (549,)\n",
      "y_test shape (20,)\n"
     ]
    }
   ],
   "source": [
    "X= causality_df.iloc[:,:]\n",
    "y= df['diagnosis']\n",
    "\n",
    "print('X shape',X.shape)\n",
    "print('y shape',y.shape)\n",
    "\n",
    "# train_test_split\n",
    "X_train, X_test, y_train, y_test = train_test_split(X,y, test_size=20, random_state= 30)\n",
    "\n",
    "print('X_train shape', X_train.shape)\n",
    "print('X_test shape', X_test.shape)\n",
    "print('y_train shape', y_train.shape)\n",
    "print('y_test shape', y_test.shape)"
   ]
  },
  {
   "cell_type": "code",
   "execution_count": 91,
   "id": "c43bebc0",
   "metadata": {},
   "outputs": [],
   "source": [
    "# Pipeline Decision Tree Classifier:\n",
    "\n",
    "pipeline_dtc= Pipeline([\n",
    "    ('scaler2', StandardScaler()),\n",
    "    ('pca2', PCA(n_components=2)),\n",
    "    ('dt_classifier', DecisionTreeClassifier())\n",
    "])"
   ]
  },
  {
   "cell_type": "code",
   "execution_count": 92,
   "id": "672f856c",
   "metadata": {},
   "outputs": [],
   "source": [
    "# Pipeline Random Forest Classifier:\n",
    "\n",
    "pipeline_rfc = Pipeline([\n",
    "    ('scaler3', StandardScaler()),\n",
    "    ('pca2', PCA(n_components=3)),\n",
    "    ('rf_classifier', RandomForestClassifier())\n",
    "])"
   ]
  },
  {
   "cell_type": "code",
   "execution_count": 93,
   "id": "46f3b6d7",
   "metadata": {},
   "outputs": [],
   "source": [
    "# Pipeline Logistic Regression: \n",
    "\n",
    "pipeline_lr = Pipeline([\n",
    "    ('scaler1',StandardScaler()),\n",
    "    ('pca1', PCA(n_components=2)),\n",
    "    ('lr_classifier', LogisticRegression(random_state=0))\n",
    "])"
   ]
  },
  {
   "cell_type": "code",
   "execution_count": 94,
   "id": "be1694fc",
   "metadata": {},
   "outputs": [],
   "source": [
    "# Make the list of pipeline: \n",
    "\n",
    "pipeline = [pipeline_lr,pipeline_dtc,pipeline_rfc]\n",
    "\n",
    "best_accuracy = 0.0\n",
    "best_classifier= 0\n",
    "best_pipeline = \"\""
   ]
  },
  {
   "cell_type": "code",
   "execution_count": 95,
   "id": "b1fb0f60",
   "metadata": {},
   "outputs": [],
   "source": [
    "# Dictionary of pipeline and classifier types for ease of reference:\n",
    "\n",
    "pipe_dict = { 0: 'Logistic Regression', 1: 'Decision Tree', 2:'RandomForest'}\n",
    "\n",
    "# fit the pipleline \n",
    "for pipe in pipeline:\n",
    "    pipe.fit(X_train, y_train)"
   ]
  },
  {
   "cell_type": "code",
   "execution_count": 96,
   "id": "9f7debd0",
   "metadata": {},
   "outputs": [
    {
     "name": "stdout",
     "output_type": "stream",
     "text": [
      "Logistic Regression Test Accuracy: 1.0\n",
      "Decision Tree Test Accuracy: 0.9\n",
      "RandomForest Test Accuracy: 0.95\n"
     ]
    }
   ],
   "source": [
    "for i, model in enumerate(pipeline):\n",
    "    print('{} Test Accuracy: {}'.format(pipe_dict[i],model.score(X_test, y_test)))"
   ]
  },
  {
   "cell_type": "code",
   "execution_count": 97,
   "id": "61fb61c6",
   "metadata": {},
   "outputs": [
    {
     "name": "stdout",
     "output_type": "stream",
     "text": [
      "classifier with best accuracy:Logistic Regression\n"
     ]
    }
   ],
   "source": [
    "for i, model in enumerate(pipeline):\n",
    "    if model.score(X_test, y_test) > best_accuracy:\n",
    "        best_accuracy= model.score(X_test, y_test)\n",
    "        best_pipeline= model\n",
    "        best_classifier= i\n",
    "print('classifier with best accuracy:{}'.format(pipe_dict[best_classifier]))"
   ]
  },
  {
   "cell_type": "code",
   "execution_count": 98,
   "id": "832db102",
   "metadata": {},
   "outputs": [
    {
     "name": "stdout",
     "output_type": "stream",
     "text": [
      "Predicted: [1 1 0 1 0 1 0 0 0 0]\n",
      "Actual: 197    1\n",
      "351    1\n",
      "338    0\n",
      "47     1\n",
      "474    0\n",
      "24     1\n",
      "309    0\n",
      "556    0\n",
      "158    0\n",
      "364    0\n",
      "Name: diagnosis, dtype: int64\n"
     ]
    }
   ],
   "source": [
    "# Define Decision Tree Model\n",
    "dt = DecisionTreeClassifier()\n",
    "# We fit our model with our train data\n",
    "dt.fit(X_train, y_train)\n",
    "# Then predict results from X_test data\n",
    "pred_dt = dt.predict(X_test)\n",
    "\n",
    "# See First 10 Predictions and They Actual Values\n",
    "print(\"Predicted:\", pred_dt[0:10])\n",
    "print(\"Actual:\", y_test[0:10])"
   ]
  },
  {
   "cell_type": "code",
   "execution_count": 99,
   "id": "98f4da09",
   "metadata": {},
   "outputs": [
    {
     "name": "stdout",
     "output_type": "stream",
     "text": [
      "Feature ranking:\n",
      "1. feature 19 (0.696484)\n",
      "2. feature 16 (0.105492)\n",
      "3. feature 11 (0.035814)\n",
      "4. feature 14 (0.026474)\n",
      "5. feature 15 (0.021828)\n",
      "6. feature 18 (0.018346)\n",
      "7. feature 17 (0.016411)\n",
      "8. feature 1 (0.014861)\n",
      "9. feature 2 (0.012836)\n",
      "10. feature 12 (0.011096)\n",
      "11. feature 0 (0.008794)\n",
      "12. feature 20 (0.007612)\n",
      "13. feature 9 (0.007290)\n",
      "14. feature 7 (0.006266)\n",
      "15. feature 10 (0.005222)\n",
      "16. feature 4 (0.001835)\n",
      "17. feature 3 (0.001821)\n",
      "18. feature 8 (0.001519)\n",
      "19. feature 6 (0.000000)\n",
      "20. feature 5 (0.000000)\n",
      "21. feature 13 (0.000000)\n"
     ]
    },
    {
     "data": {
      "image/png": "[encoded data removed]",
      "text/plain": [
       "<Figure size 1008x936 with 1 Axes>"
      ]
     },
     "metadata": {
      "needs_background": "light"
     },
     "output_type": "display_data"
    }
   ],
   "source": [
    "import matplotlib.pyplot as plt\n",
    "clf_rf_5 = DecisionTreeClassifier()      \n",
    "clr_rf_5 = clf_rf_5.fit(X_train,y_train)\n",
    "importances = clr_rf_5.feature_importances_\n",
    "# std = np.std([tree.feature_importances_ for tree in pipeline_dtc.estimators_],\n",
    "#              axis=0)\n",
    "indices = np.argsort(importances)[::-1]\n",
    "\n",
    "# Print the feature ranking\n",
    "print(\"Feature ranking:\")\n",
    "\n",
    "for f in range(X_train.shape[1]):\n",
    "    print(\"%d. feature %d (%f)\" % (f + 1, indices[f], importances[indices[f]]))\n",
    "\n",
    "# Plot the feature importances of the forest\n",
    "\n",
    "plt.figure(1, figsize=(14, 13))\n",
    "plt.title(\"Feature importances\")\n",
    "plt.bar(range(X_train.shape[1]), importances[indices],\n",
    "       color=\"g\", align=\"center\")\n",
    "plt.xticks(range(X_train.shape[1]), X_train.columns[indices],rotation=90)\n",
    "plt.xlim([-1, X_train.shape[1]])\n",
    "plt.show()"
   ]
  }
 ],
 "metadata": {
  "kernelspec": {
   "display_name": "Python 3 (ipykernel)",
   "language": "python",
   "name": "python3"
  },
  "language_info": {
   "codemirror_mode": {
    "name": "ipython",
    "version": 3
   },
   "file_extension": ".py",
   "mimetype": "text/x-python",
   "name": "python",
   "nbconvert_exporter": "python",
   "pygments_lexer": "ipython3",
   "version": "3.9.7"
  }
 },
 "nbformat": 4,
 "nbformat_minor": 5
}
