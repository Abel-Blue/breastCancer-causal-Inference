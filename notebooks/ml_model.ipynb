{
 "cells": [
  {
   "cell_type": "markdown",
   "id": "2757ce80",
   "metadata": {},
   "source": [
    "# ML Model"
   ]
  },
  {
   "cell_type": "code",
   "execution_count": 1,
   "id": "216ce123",
   "metadata": {},
   "outputs": [],
   "source": [
    "# importing important modules\n",
    "from sklearn.model_selection import train_test_split\n",
    "from sklearn. preprocessing import StandardScaler\n",
    "from sklearn. decomposition import PCA\n",
    "from sklearn.pipeline import Pipeline\n",
    "from sklearn.linear_model import LogisticRegression\n",
    "from sklearn.tree import DecisionTreeClassifier\n",
    "from sklearn.ensemble import RandomForestClassifier\n",
    "from sklearn.model_selection import GridSearchCV\n",
    "import pandas as pd\n",
    "import numpy as np"
   ]
  },
  {
   "cell_type": "markdown",
   "id": "e4b9e33d",
   "metadata": {},
   "source": [
    "# Pipeline in SkLearn"
   ]
  },
  {
   "cell_type": "code",
   "execution_count": 2,
   "id": "8f905107",
   "metadata": {
    "scrolled": true
   },
   "outputs": [
    {
     "data": {
      "text/html": [
       "<div>\n",
       "<style scoped>\n",
       "    .dataframe tbody tr th:only-of-type {\n",
       "        vertical-align: middle;\n",
       "    }\n",
       "\n",
       "    .dataframe tbody tr th {\n",
       "        vertical-align: top;\n",
       "    }\n",
       "\n",
       "    .dataframe thead th {\n",
       "        text-align: right;\n",
       "    }\n",
       "</style>\n",
       "<table border=\"1\" class=\"dataframe\">\n",
       "  <thead>\n",
       "    <tr style=\"text-align: right;\">\n",
       "      <th></th>\n",
       "      <th>radius_mean</th>\n",
       "      <th>texture_mean</th>\n",
       "      <th>perimeter_mean</th>\n",
       "      <th>area_mean</th>\n",
       "      <th>smoothness_mean</th>\n",
       "      <th>compactness_mean</th>\n",
       "      <th>concavity_mean</th>\n",
       "      <th>concave points_mean</th>\n",
       "      <th>symmetry_mean</th>\n",
       "      <th>fractal_dimension_mean</th>\n",
       "      <th>...</th>\n",
       "      <th>texture_worst</th>\n",
       "      <th>perimeter_worst</th>\n",
       "      <th>area_worst</th>\n",
       "      <th>smoothness_worst</th>\n",
       "      <th>compactness_worst</th>\n",
       "      <th>concavity_worst</th>\n",
       "      <th>concave points_worst</th>\n",
       "      <th>symmetry_worst</th>\n",
       "      <th>fractal_dimension_worst</th>\n",
       "      <th>diagnosis</th>\n",
       "    </tr>\n",
       "  </thead>\n",
       "  <tbody>\n",
       "    <tr>\n",
       "      <th>0</th>\n",
       "      <td>1.335706</td>\n",
       "      <td>-2.183545</td>\n",
       "      <td>1.526900</td>\n",
       "      <td>1.477828</td>\n",
       "      <td>1.708051</td>\n",
       "      <td>-0.152054</td>\n",
       "      <td>-0.283578</td>\n",
       "      <td>2.887302</td>\n",
       "      <td>2.646196</td>\n",
       "      <td>2.837042</td>\n",
       "      <td>...</td>\n",
       "      <td>-1.400167</td>\n",
       "      <td>2.761488</td>\n",
       "      <td>-0.224151</td>\n",
       "      <td>1.429505</td>\n",
       "      <td>-0.206236</td>\n",
       "      <td>2.497158</td>\n",
       "      <td>2.296076</td>\n",
       "      <td>0.002570</td>\n",
       "      <td>2.739080</td>\n",
       "      <td>1</td>\n",
       "    </tr>\n",
       "    <tr>\n",
       "      <th>1</th>\n",
       "      <td>2.168713</td>\n",
       "      <td>-0.336098</td>\n",
       "      <td>1.999151</td>\n",
       "      <td>2.692856</td>\n",
       "      <td>-0.858619</td>\n",
       "      <td>-0.466377</td>\n",
       "      <td>0.107062</td>\n",
       "      <td>0.680991</td>\n",
       "      <td>0.084394</td>\n",
       "      <td>-0.938952</td>\n",
       "      <td>...</td>\n",
       "      <td>-0.357761</td>\n",
       "      <td>1.873778</td>\n",
       "      <td>-0.224151</td>\n",
       "      <td>-0.369836</td>\n",
       "      <td>-0.404542</td>\n",
       "      <td>-0.084360</td>\n",
       "      <td>1.087084</td>\n",
       "      <td>-0.152067</td>\n",
       "      <td>0.548993</td>\n",
       "      <td>1</td>\n",
       "    </tr>\n",
       "    <tr>\n",
       "      <th>2</th>\n",
       "      <td>1.884587</td>\n",
       "      <td>0.533878</td>\n",
       "      <td>1.863554</td>\n",
       "      <td>2.233014</td>\n",
       "      <td>1.037027</td>\n",
       "      <td>1.359343</td>\n",
       "      <td>1.809179</td>\n",
       "      <td>2.336656</td>\n",
       "      <td>1.169045</td>\n",
       "      <td>-0.370155</td>\n",
       "      <td>...</td>\n",
       "      <td>0.005710</td>\n",
       "      <td>1.657012</td>\n",
       "      <td>2.425960</td>\n",
       "      <td>0.595436</td>\n",
       "      <td>1.460157</td>\n",
       "      <td>1.061762</td>\n",
       "      <td>1.955000</td>\n",
       "      <td>1.701432</td>\n",
       "      <td>0.443446</td>\n",
       "      <td>1</td>\n",
       "    </tr>\n",
       "    <tr>\n",
       "      <th>3</th>\n",
       "      <td>-0.785558</td>\n",
       "      <td>0.316384</td>\n",
       "      <td>-0.587475</td>\n",
       "      <td>-0.821005</td>\n",
       "      <td>-0.009925</td>\n",
       "      <td>-0.152054</td>\n",
       "      <td>2.486945</td>\n",
       "      <td>1.685632</td>\n",
       "      <td>-0.000015</td>\n",
       "      <td>-0.104601</td>\n",
       "      <td>...</td>\n",
       "      <td>0.172015</td>\n",
       "      <td>-0.188255</td>\n",
       "      <td>-0.532056</td>\n",
       "      <td>-0.018402</td>\n",
       "      <td>-0.206236</td>\n",
       "      <td>2.359931</td>\n",
       "      <td>2.175786</td>\n",
       "      <td>0.002570</td>\n",
       "      <td>-0.109206</td>\n",
       "      <td>1</td>\n",
       "    </tr>\n",
       "    <tr>\n",
       "      <th>4</th>\n",
       "      <td>2.078309</td>\n",
       "      <td>-1.193573</td>\n",
       "      <td>2.102017</td>\n",
       "      <td>2.584438</td>\n",
       "      <td>0.327875</td>\n",
       "      <td>0.750470</td>\n",
       "      <td>1.818421</td>\n",
       "      <td>1.659821</td>\n",
       "      <td>0.071733</td>\n",
       "      <td>-0.568891</td>\n",
       "      <td>...</td>\n",
       "      <td>-1.513323</td>\n",
       "      <td>1.646690</td>\n",
       "      <td>2.078659</td>\n",
       "      <td>0.267431</td>\n",
       "      <td>-0.260319</td>\n",
       "      <td>0.785112</td>\n",
       "      <td>0.729259</td>\n",
       "      <td>-0.981094</td>\n",
       "      <td>-0.348151</td>\n",
       "      <td>1</td>\n",
       "    </tr>\n",
       "  </tbody>\n",
       "</table>\n",
       "<p>5 rows × 31 columns</p>\n",
       "</div>"
      ],
      "text/plain": [
       "   radius_mean  texture_mean  perimeter_mean  area_mean  smoothness_mean  \\\n",
       "0     1.335706     -2.183545        1.526900   1.477828         1.708051   \n",
       "1     2.168713     -0.336098        1.999151   2.692856        -0.858619   \n",
       "2     1.884587      0.533878        1.863554   2.233014         1.037027   \n",
       "3    -0.785558      0.316384       -0.587475  -0.821005        -0.009925   \n",
       "4     2.078309     -1.193573        2.102017   2.584438         0.327875   \n",
       "\n",
       "   compactness_mean  concavity_mean  concave points_mean  symmetry_mean  \\\n",
       "0         -0.152054       -0.283578             2.887302       2.646196   \n",
       "1         -0.466377        0.107062             0.680991       0.084394   \n",
       "2          1.359343        1.809179             2.336656       1.169045   \n",
       "3         -0.152054        2.486945             1.685632      -0.000015   \n",
       "4          0.750470        1.818421             1.659821       0.071733   \n",
       "\n",
       "   fractal_dimension_mean  ...  texture_worst  perimeter_worst  area_worst  \\\n",
       "0                2.837042  ...      -1.400167         2.761488   -0.224151   \n",
       "1               -0.938952  ...      -0.357761         1.873778   -0.224151   \n",
       "2               -0.370155  ...       0.005710         1.657012    2.425960   \n",
       "3               -0.104601  ...       0.172015        -0.188255   -0.532056   \n",
       "4               -0.568891  ...      -1.513323         1.646690    2.078659   \n",
       "\n",
       "   smoothness_worst  compactness_worst  concavity_worst  concave points_worst  \\\n",
       "0          1.429505          -0.206236         2.497158              2.296076   \n",
       "1         -0.369836          -0.404542        -0.084360              1.087084   \n",
       "2          0.595436           1.460157         1.061762              1.955000   \n",
       "3         -0.018402          -0.206236         2.359931              2.175786   \n",
       "4          0.267431          -0.260319         0.785112              0.729259   \n",
       "\n",
       "   symmetry_worst  fractal_dimension_worst  diagnosis  \n",
       "0        0.002570                 2.739080          1  \n",
       "1       -0.152067                 0.548993          1  \n",
       "2        1.701432                 0.443446          1  \n",
       "3        0.002570                -0.109206          1  \n",
       "4       -0.981094                -0.348151          1  \n",
       "\n",
       "[5 rows x 31 columns]"
      ]
     },
     "execution_count": 2,
     "metadata": {},
     "output_type": "execute_result"
    }
   ],
   "source": [
    "# Load dataset\n",
    "df= pd.read_csv('../data/scaled_data.csv')\n",
    "df.head(5)"
   ]
  },
  {
   "cell_type": "code",
   "execution_count": 4,
   "id": "bc50982f",
   "metadata": {},
   "outputs": [
    {
     "data": {
      "text/plain": [
       "(31,)"
      ]
     },
     "execution_count": 4,
     "metadata": {},
     "output_type": "execute_result"
    }
   ],
   "source": [
    "df.columns.shape"
   ]
  },
  {
   "cell_type": "code",
   "execution_count": 5,
   "id": "18990299",
   "metadata": {},
   "outputs": [],
   "source": [
    "# Features from Casual Graph\n",
    "casual_features = ['radius_mean',\n",
    " 'texture_mean',\n",
    " 'perimeter_mean',\n",
    " 'compactness_mean',\n",
    " 'concavity_mean',\n",
    " 'concave points_mean',\n",
    " 'symmetry_mean',\n",
    " 'fractal_dimension_mean',\n",
    " 'radius_se',\n",
    " 'texture_se',\n",
    " 'perimeter_se',\n",
    " 'area_se',\n",
    " 'concavity_se',\n",
    " 'radius_worst',\n",
    " 'texture_worst',\n",
    " 'perimeter_worst',\n",
    " 'area_worst',\n",
    " 'compactness_worst',\n",
    " 'concavity_worst',\n",
    " 'concave points_worst',\n",
    " 'symmetry_worst']"
   ]
  },
  {
   "cell_type": "markdown",
   "id": "ff4c1236",
   "metadata": {},
   "source": [
    "# Pipeline Using the whole Data"
   ]
  },
  {
   "cell_type": "code",
   "execution_count": 6,
   "id": "f0ef50c5",
   "metadata": {
    "scrolled": true
   },
   "outputs": [
    {
     "name": "stdout",
     "output_type": "stream",
     "text": [
      "X shape (569, 30)\n",
      "y shape (569,)\n",
      "X_train shape (549, 30)\n",
      "X_test shape (20, 30)\n",
      "y_train shape (549,)\n",
      "y_test shape (20,)\n"
     ]
    }
   ],
   "source": [
    "X= df.iloc[:,0:30]\n",
    "y= df['diagnosis']\n",
    "\n",
    "print('X shape',X.shape)\n",
    "print('y shape',y.shape)\n",
    "\n",
    "# train_test_split\n",
    "X_train, X_test, y_train, y_test = train_test_split(X,y, test_size=20, random_state= 30)\n",
    "\n",
    "print('X_train shape', X_train.shape)\n",
    "print('X_test shape', X_test.shape)\n",
    "print('y_train shape', y_train.shape)\n",
    "print('y_test shape', y_test.shape)"
   ]
  },
  {
   "cell_type": "markdown",
   "id": "4452135e",
   "metadata": {},
   "source": [
    "# Logistic Regression"
   ]
  },
  {
   "cell_type": "code",
   "execution_count": 7,
   "id": "d7a3eb49",
   "metadata": {},
   "outputs": [],
   "source": [
    "# Pipeline Logistic Regression: \n",
    "\n",
    "pipeline_lr = Pipeline([\n",
    "    ('scaler1',StandardScaler()),\n",
    "    ('pca1', PCA(n_components=2)),\n",
    "    ('lr_classifier', LogisticRegression(random_state=0))\n",
    "])"
   ]
  },
  {
   "cell_type": "code",
   "execution_count": 16,
   "id": "fde0484a",
   "metadata": {
    "scrolled": true
   },
   "outputs": [
    {
     "data": {
      "text/plain": [
       "<AxesSubplot:>"
      ]
     },
     "execution_count": 16,
     "metadata": {},
     "output_type": "execute_result"
    },
    {
     "data": {
      "image/png": "[encoded data removed]",
      "text/plain": [
       "<Figure size 432x288 with 2 Axes>"
      ]
     },
     "metadata": {
      "needs_background": "light"
     },
     "output_type": "display_data"
    }
   ],
   "source": [
    "from sklearn.metrics import f1_score,confusion_matrix\n",
    "import seaborn as sns\n",
    "cm_2 = confusion_matrix(y_test,pipeline_lr.predict(X_test))\n",
    "sns.heatmap(cm_2,annot=True,fmt=\"d\")"
   ]
  },
  {
   "cell_type": "markdown",
   "id": "674aebb7",
   "metadata": {},
   "source": [
    "# Decision Tree Classifier"
   ]
  },
  {
   "cell_type": "code",
   "execution_count": 8,
   "id": "da778784",
   "metadata": {},
   "outputs": [],
   "source": [
    "# Pipeline Decision Tree Classifier:\n",
    "\n",
    "pipeline_dtc= Pipeline([\n",
    "    ('scaler2', StandardScaler()),\n",
    "    ('pca2', PCA(n_components=2)),\n",
    "    ('dt_classifier', DecisionTreeClassifier())\n",
    "])"
   ]
  },
  {
   "cell_type": "code",
   "execution_count": 17,
   "id": "a6dc2209",
   "metadata": {},
   "outputs": [
    {
     "data": {
      "text/plain": [
       "<AxesSubplot:>"
      ]
     },
     "execution_count": 17,
     "metadata": {},
     "output_type": "execute_result"
    },
    {
     "data": {
      "image/png": "[encoded data removed]",
      "text/plain": [
       "<Figure size 432x288 with 2 Axes>"
      ]
     },
     "metadata": {
      "needs_background": "light"
     },
     "output_type": "display_data"
    }
   ],
   "source": [
    "from sklearn.metrics import f1_score,confusion_matrix\n",
    "import seaborn as sns\n",
    "cm_2 = confusion_matrix(y_test,pipeline_dtc.predict(X_test))\n",
    "sns.heatmap(cm_2,annot=True,fmt=\"d\")"
   ]
  },
  {
   "cell_type": "markdown",
   "id": "63cebe3a",
   "metadata": {},
   "source": [
    "# Random Forest Classifier"
   ]
  },
  {
   "cell_type": "code",
   "execution_count": 9,
   "id": "102b23a1",
   "metadata": {},
   "outputs": [],
   "source": [
    "# Pipeline Random Forest Classifier:\n",
    "\n",
    "pipeline_rfc = Pipeline([\n",
    "    ('scaler3', StandardScaler()),\n",
    "    ('pca2', PCA(n_components=3)),\n",
    "    ('rf_classifier', RandomForestClassifier())\n",
    "])"
   ]
  },
  {
   "cell_type": "code",
   "execution_count": 18,
   "id": "07128603",
   "metadata": {
    "scrolled": true
   },
   "outputs": [
    {
     "data": {
      "text/plain": [
       "<AxesSubplot:>"
      ]
     },
     "execution_count": 18,
     "metadata": {},
     "output_type": "execute_result"
    },
    {
     "data": {
      "image/png": "[encoded data removed]",
      "text/plain": [
       "<Figure size 432x288 with 2 Axes>"
      ]
     },
     "metadata": {
      "needs_background": "light"
     },
     "output_type": "display_data"
    }
   ],
   "source": [
    "from sklearn.metrics import f1_score,confusion_matrix\n",
    "import seaborn as sns\n",
    "cm_2 = confusion_matrix(y_test,pipeline_rfc.predict(X_test))\n",
    "sns.heatmap(cm_2,annot=True,fmt=\"d\")"
   ]
  },
  {
   "cell_type": "code",
   "execution_count": 10,
   "id": "917a5748",
   "metadata": {},
   "outputs": [],
   "source": [
    "# Make the list of pipeline: \n",
    "\n",
    "pipeline = [pipeline_lr,pipeline_dtc,pipeline_rfc]\n",
    "\n",
    "best_accuracy = 0.0\n",
    "best_classifier= 0\n",
    "best_pipeline = \"\""
   ]
  },
  {
   "cell_type": "code",
   "execution_count": 11,
   "id": "bf85015b",
   "metadata": {},
   "outputs": [],
   "source": [
    "# Dictionary of pipeline and classifier types for ease of reference:\n",
    "\n",
    "pipe_dict = { 0: 'Logistic Regression', 1: 'Decision Tree', 2:'RandomForest'}\n",
    "\n",
    "# fit the pipleline \n",
    "for pipe in pipeline:\n",
    "    pipe.fit(X_train, y_train)"
   ]
  },
  {
   "cell_type": "code",
   "execution_count": 12,
   "id": "cd9d99f7",
   "metadata": {},
   "outputs": [
    {
     "name": "stdout",
     "output_type": "stream",
     "text": [
      "Logistic Regression Test Accuracy: 0.9\n",
      "Decision Tree Test Accuracy: 0.95\n",
      "RandomForest Test Accuracy: 0.9\n"
     ]
    }
   ],
   "source": [
    "for i, model in enumerate(pipeline):\n",
    "    print('{} Test Accuracy: {}'.format(pipe_dict[i],model.score(X_test, y_test)))"
   ]
  },
  {
   "cell_type": "code",
   "execution_count": 13,
   "id": "6055c239",
   "metadata": {},
   "outputs": [
    {
     "name": "stdout",
     "output_type": "stream",
     "text": [
      "classifier with best accuracy:Decision Tree\n"
     ]
    }
   ],
   "source": [
    "for i, model in enumerate(pipeline):\n",
    "    if model.score(X_test, y_test) > best_accuracy:\n",
    "        best_accuracy= model.score(X_test, y_test)\n",
    "        best_pipeline= model\n",
    "        best_classifier= i\n",
    "print('classifier with best accuracy:{}'.format(pipe_dict[best_classifier]))"
   ]
  },
  {
   "cell_type": "code",
   "execution_count": 29,
   "id": "4a493a57",
   "metadata": {
    "scrolled": false
   },
   "outputs": [
    {
     "name": "stdout",
     "output_type": "stream",
     "text": [
      "Feature ranking:\n",
      "1. feature 27 (0.700400)\n",
      "2. feature 23 (0.104808)\n",
      "3. feature 13 (0.033374)\n",
      "4. feature 24 (0.026736)\n",
      "5. feature 21 (0.024254)\n",
      "6. feature 22 (0.021828)\n",
      "7. feature 1 (0.021388)\n",
      "8. feature 26 (0.013569)\n",
      "9. feature 5 (0.011189)\n",
      "10. feature 18 (0.007612)\n",
      "11. feature 4 (0.007604)\n",
      "12. feature 29 (0.006266)\n",
      "13. feature 17 (0.005222)\n",
      "14. feature 28 (0.005222)\n",
      "15. feature 10 (0.003960)\n",
      "16. feature 8 (0.003504)\n",
      "17. feature 6 (0.001835)\n",
      "18. feature 14 (0.001230)\n",
      "19. feature 11 (0.000000)\n",
      "20. feature 12 (0.000000)\n",
      "21. feature 9 (0.000000)\n",
      "22. feature 15 (0.000000)\n",
      "23. feature 7 (0.000000)\n",
      "24. feature 16 (0.000000)\n",
      "25. feature 19 (0.000000)\n",
      "26. feature 20 (0.000000)\n",
      "27. feature 3 (0.000000)\n",
      "28. feature 2 (0.000000)\n",
      "29. feature 25 (0.000000)\n",
      "30. feature 0 (0.000000)\n"
     ]
    },
    {
     "data": {
      "image/png": "[encoded data removed]",
      "text/plain": [
       "<Figure size 1008x936 with 1 Axes>"
      ]
     },
     "metadata": {
      "needs_background": "light"
     },
     "output_type": "display_data"
    }
   ],
   "source": [
    "import matplotlib.pyplot as plt\n",
    "clf_rf_5 = DecisionTreeClassifier()      \n",
    "clr_rf_5 = clf_rf_5.fit(X_train,y_train)\n",
    "importances = clr_rf_5.feature_importances_\n",
    "# std = np.std([tree.feature_importances_ for tree in pipeline_dtc.estimators_],\n",
    "#              axis=0)\n",
    "indices = np.argsort(importances)[::-1]\n",
    "\n",
    "# Print the feature ranking\n",
    "print(\"Feature ranking:\")\n",
    "\n",
    "for f in range(X_train.shape[1]):\n",
    "    print(\"%d. feature %d (%f)\" % (f + 1, indices[f], importances[indices[f]]))\n",
    "\n",
    "# Plot the feature importances of the forest\n",
    "\n",
    "plt.figure(1, figsize=(14, 13))\n",
    "plt.title(\"Feature importances\")\n",
    "plt.bar(range(X_train.shape[1]), importances[indices],\n",
    "       color=\"g\", align=\"center\")\n",
    "plt.xticks(range(X_train.shape[1]), X_train.columns[indices],rotation=90)\n",
    "plt.xlim([-1, X_train.shape[1]])\n",
    "plt.show()"
   ]
  },
  {
   "cell_type": "code",
   "execution_count": 22,
   "id": "cfd9b3e8",
   "metadata": {
    "scrolled": true
   },
   "outputs": [
    {
     "name": "stdout",
     "output_type": "stream",
     "text": [
      "Predicted: [0 1 0 1 0 1 0 0 0 0]\n",
      "Actual: 197    1\n",
      "351    1\n",
      "338    0\n",
      "47     1\n",
      "474    0\n",
      "24     1\n",
      "309    0\n",
      "556    0\n",
      "158    0\n",
      "364    0\n",
      "Name: diagnosis, dtype: int64\n"
     ]
    }
   ],
   "source": [
    "# Define Decision Tree Model\n",
    "dt = DecisionTreeClassifier()\n",
    "# We fit our model with our train data\n",
    "dt.fit(X_train, y_train)\n",
    "# Then predict results from X_test data\n",
    "pred_dt = dt.predict(X_test)\n",
    "\n",
    "# See First 10 Predictions and They Actual Values\n",
    "print(\"Predicted:\", pred_dt[0:10])\n",
    "print(\"Actual:\", y_test[0:10])"
   ]
  },
  {
   "cell_type": "code",
   "execution_count": 23,
   "id": "85a3af2f",
   "metadata": {},
   "outputs": [
    {
     "name": "stdout",
     "output_type": "stream",
     "text": [
      "Feature: 0, Score: 0.00000\n",
      "Feature: 1, Score: 0.02726\n",
      "Feature: 2, Score: 0.00000\n",
      "Feature: 3, Score: 0.00000\n",
      "Feature: 4, Score: 0.00760\n",
      "Feature: 5, Score: 0.01119\n",
      "Feature: 6, Score: 0.00810\n",
      "Feature: 7, Score: 0.00000\n",
      "Feature: 8, Score: 0.00350\n",
      "Feature: 9, Score: 0.00000\n",
      "Feature: 10, Score: 0.00152\n",
      "Feature: 11, Score: 0.00000\n",
      "Feature: 12, Score: 0.00000\n",
      "Feature: 13, Score: 0.03581\n",
      "Feature: 14, Score: 0.00123\n",
      "Feature: 15, Score: 0.00000\n",
      "Feature: 16, Score: 0.00000\n",
      "Feature: 17, Score: 0.00000\n",
      "Feature: 18, Score: 0.00000\n",
      "Feature: 19, Score: 0.00522\n",
      "Feature: 20, Score: 0.00000\n",
      "Feature: 21, Score: 0.02425\n",
      "Feature: 22, Score: 0.02183\n",
      "Feature: 23, Score: 0.10872\n",
      "Feature: 24, Score: 0.02674\n",
      "Feature: 25, Score: 0.00000\n",
      "Feature: 26, Score: 0.00769\n",
      "Feature: 27, Score: 0.69648\n",
      "Feature: 28, Score: 0.00761\n",
      "Feature: 29, Score: 0.00522\n"
     ]
    }
   ],
   "source": [
    "# define the model\n",
    "model = DecisionTreeClassifier()\n",
    "# fit the model\n",
    "model.fit(X_train, y_train)\n",
    "# get importance\n",
    "importance = model.feature_importances_\n",
    "# summarize feature importance\n",
    "for i,v in enumerate(importance):\n",
    "    print('Feature: %0d, Score: %.5f' % (i,v))\n",
    "# plot feature importance"
   ]
  },
  {
   "cell_type": "code",
   "execution_count": 24,
   "id": "8bda32a3",
   "metadata": {},
   "outputs": [
    {
     "ename": "NameError",
     "evalue": "name 'plot_importance' is not defined",
     "output_type": "error",
     "traceback": [
      "\u001b[0;31m---------------------------------------------------------------------------\u001b[0m",
      "\u001b[0;31mNameError\u001b[0m                                 Traceback (most recent call last)",
      "\u001b[0;32m/tmp/ipykernel_19221/1626869914.py\u001b[0m in \u001b[0;36m<module>\u001b[0;34m\u001b[0m\n\u001b[1;32m      3\u001b[0m \u001b[0mmodel\u001b[0m\u001b[0;34m.\u001b[0m\u001b[0mfit\u001b[0m\u001b[0;34m(\u001b[0m\u001b[0mX_train\u001b[0m\u001b[0;34m,\u001b[0m \u001b[0my_train\u001b[0m\u001b[0;34m)\u001b[0m\u001b[0;34m\u001b[0m\u001b[0;34m\u001b[0m\u001b[0m\n\u001b[1;32m      4\u001b[0m \u001b[0;31m# plot feature importance\u001b[0m\u001b[0;34m\u001b[0m\u001b[0;34m\u001b[0m\u001b[0m\n\u001b[0;32m----> 5\u001b[0;31m \u001b[0mplot_importance\u001b[0m\u001b[0;34m(\u001b[0m\u001b[0mmodel\u001b[0m\u001b[0;34m)\u001b[0m\u001b[0;34m\u001b[0m\u001b[0;34m\u001b[0m\u001b[0m\n\u001b[0m\u001b[1;32m      6\u001b[0m \u001b[0mpyplot\u001b[0m\u001b[0;34m.\u001b[0m\u001b[0mshow\u001b[0m\u001b[0;34m(\u001b[0m\u001b[0;34m)\u001b[0m\u001b[0;34m\u001b[0m\u001b[0;34m\u001b[0m\u001b[0m\n",
      "\u001b[0;31mNameError\u001b[0m: name 'plot_importance' is not defined"
     ]
    }
   ],
   "source": [
    "# fit model no training data\n",
    "model = DecisionTreeClassifier()\n",
    "model.fit(X_train, y_train)\n",
    "# plot feature importance\n",
    "plot_importance(model)\n",
    "pyplot.show()"
   ]
  },
  {
   "cell_type": "code",
   "execution_count": null,
   "id": "4ec9592d",
   "metadata": {},
   "outputs": [],
   "source": []
  },
  {
   "cell_type": "code",
   "execution_count": null,
   "id": "506ec8d4",
   "metadata": {},
   "outputs": [],
   "source": []
  },
  {
   "cell_type": "code",
   "execution_count": null,
   "id": "4cb9ef71",
   "metadata": {},
   "outputs": [],
   "source": []
  },
  {
   "cell_type": "code",
   "execution_count": null,
   "id": "01ebfd5f",
   "metadata": {},
   "outputs": [],
   "source": [
    "# let's create a dictionary of features and their importance values\n",
    "feat_dict= {}\n",
    "for col, val in sorted(zip(X_train.columns, dt_hp.feature_importances_),key=lambda x:x[1],reverse=True):\n",
    "  feat_dict[col]=val"
   ]
  },
  {
   "cell_type": "code",
   "execution_count": null,
   "id": "69e51c8f",
   "metadata": {},
   "outputs": [],
   "source": []
  },
  {
   "cell_type": "code",
   "execution_count": null,
   "id": "d0735fe3",
   "metadata": {},
   "outputs": [],
   "source": []
  },
  {
   "cell_type": "code",
   "execution_count": null,
   "id": "46ac3ae6",
   "metadata": {},
   "outputs": [],
   "source": []
  },
  {
   "cell_type": "code",
   "execution_count": null,
   "id": "ad3306bf",
   "metadata": {},
   "outputs": [],
   "source": []
  },
  {
   "cell_type": "code",
   "execution_count": null,
   "id": "b79f8504",
   "metadata": {},
   "outputs": [],
   "source": []
  },
  {
   "cell_type": "markdown",
   "id": "52000460",
   "metadata": {},
   "source": [
    "# Pipeline Using features extracted from casual graph"
   ]
  }
 ],
 "metadata": {
  "kernelspec": {
   "display_name": "Python 3 (ipykernel)",
   "language": "python",
   "name": "python3"
  },
  "language_info": {
   "codemirror_mode": {
    "name": "ipython",
    "version": 3
   },
   "file_extension": ".py",
   "mimetype": "text/x-python",
   "name": "python",
   "nbconvert_exporter": "python",
   "pygments_lexer": "ipython3",
   "version": "3.9.7"
  }
 },
 "nbformat": 4,
 "nbformat_minor": 5
}
