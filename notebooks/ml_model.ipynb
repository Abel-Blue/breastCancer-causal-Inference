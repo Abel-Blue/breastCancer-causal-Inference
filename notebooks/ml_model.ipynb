{
 "cells": [
  {
   "cell_type": "markdown",
   "id": "c57cb87a",
   "metadata": {},
   "source": [
    "# ML Model"
   ]
  },
  {
   "cell_type": "code",
   "execution_count": 1,
   "id": "dc35fbd1",
   "metadata": {},
   "outputs": [],
   "source": [
    "# importing important modules\n",
    "from sklearn.model_selection import train_test_split\n",
    "from sklearn. preprocessing import StandardScaler\n",
    "from sklearn. decomposition import PCA\n",
    "from sklearn.pipeline import Pipeline\n",
    "from sklearn.linear_model import LogisticRegression\n",
    "from sklearn.tree import DecisionTreeClassifier\n",
    "from sklearn.ensemble import RandomForestClassifier\n",
    "from sklearn.model_selection import GridSearchCV\n",
    "import pandas as pd\n",
    "import numpy as np"
   ]
  },
  {
   "cell_type": "markdown",
   "id": "4097db9d",
   "metadata": {},
   "source": [
    "# Pipeline in SkLearn"
   ]
  },
  {
   "cell_type": "code",
   "execution_count": 2,
   "id": "9e3d93fe",
   "metadata": {
    "scrolled": true
   },
   "outputs": [
    {
     "data": {
      "text/html": [
       "<div>\n",
       "<style scoped>\n",
       "    .dataframe tbody tr th:only-of-type {\n",
       "        vertical-align: middle;\n",
       "    }\n",
       "\n",
       "    .dataframe tbody tr th {\n",
       "        vertical-align: top;\n",
       "    }\n",
       "\n",
       "    .dataframe thead th {\n",
       "        text-align: right;\n",
       "    }\n",
       "</style>\n",
       "<table border=\"1\" class=\"dataframe\">\n",
       "  <thead>\n",
       "    <tr style=\"text-align: right;\">\n",
       "      <th></th>\n",
       "      <th>radius_mean</th>\n",
       "      <th>texture_mean</th>\n",
       "      <th>perimeter_mean</th>\n",
       "      <th>area_mean</th>\n",
       "      <th>smoothness_mean</th>\n",
       "      <th>compactness_mean</th>\n",
       "      <th>concavity_mean</th>\n",
       "      <th>concave points_mean</th>\n",
       "      <th>symmetry_mean</th>\n",
       "      <th>fractal_dimension_mean</th>\n",
       "      <th>...</th>\n",
       "      <th>texture_worst</th>\n",
       "      <th>perimeter_worst</th>\n",
       "      <th>area_worst</th>\n",
       "      <th>smoothness_worst</th>\n",
       "      <th>compactness_worst</th>\n",
       "      <th>concavity_worst</th>\n",
       "      <th>concave points_worst</th>\n",
       "      <th>symmetry_worst</th>\n",
       "      <th>fractal_dimension_worst</th>\n",
       "      <th>diagnosis</th>\n",
       "    </tr>\n",
       "  </thead>\n",
       "  <tbody>\n",
       "    <tr>\n",
       "      <th>0</th>\n",
       "      <td>1.335706</td>\n",
       "      <td>-2.183545</td>\n",
       "      <td>1.526900</td>\n",
       "      <td>1.477828</td>\n",
       "      <td>1.708051</td>\n",
       "      <td>-0.152054</td>\n",
       "      <td>-0.283578</td>\n",
       "      <td>2.887302</td>\n",
       "      <td>2.646196</td>\n",
       "      <td>2.837042</td>\n",
       "      <td>...</td>\n",
       "      <td>-1.400167</td>\n",
       "      <td>2.761488</td>\n",
       "      <td>-0.224151</td>\n",
       "      <td>1.429505</td>\n",
       "      <td>-0.206236</td>\n",
       "      <td>2.497158</td>\n",
       "      <td>2.296076</td>\n",
       "      <td>0.002570</td>\n",
       "      <td>2.739080</td>\n",
       "      <td>1</td>\n",
       "    </tr>\n",
       "    <tr>\n",
       "      <th>1</th>\n",
       "      <td>2.168713</td>\n",
       "      <td>-0.336098</td>\n",
       "      <td>1.999151</td>\n",
       "      <td>2.692856</td>\n",
       "      <td>-0.858619</td>\n",
       "      <td>-0.466377</td>\n",
       "      <td>0.107062</td>\n",
       "      <td>0.680991</td>\n",
       "      <td>0.084394</td>\n",
       "      <td>-0.938952</td>\n",
       "      <td>...</td>\n",
       "      <td>-0.357761</td>\n",
       "      <td>1.873778</td>\n",
       "      <td>-0.224151</td>\n",
       "      <td>-0.369836</td>\n",
       "      <td>-0.404542</td>\n",
       "      <td>-0.084360</td>\n",
       "      <td>1.087084</td>\n",
       "      <td>-0.152067</td>\n",
       "      <td>0.548993</td>\n",
       "      <td>1</td>\n",
       "    </tr>\n",
       "    <tr>\n",
       "      <th>2</th>\n",
       "      <td>1.884587</td>\n",
       "      <td>0.533878</td>\n",
       "      <td>1.863554</td>\n",
       "      <td>2.233014</td>\n",
       "      <td>1.037027</td>\n",
       "      <td>1.359343</td>\n",
       "      <td>1.809179</td>\n",
       "      <td>2.336656</td>\n",
       "      <td>1.169045</td>\n",
       "      <td>-0.370155</td>\n",
       "      <td>...</td>\n",
       "      <td>0.005710</td>\n",
       "      <td>1.657012</td>\n",
       "      <td>2.425960</td>\n",
       "      <td>0.595436</td>\n",
       "      <td>1.460157</td>\n",
       "      <td>1.061762</td>\n",
       "      <td>1.955000</td>\n",
       "      <td>1.701432</td>\n",
       "      <td>0.443446</td>\n",
       "      <td>1</td>\n",
       "    </tr>\n",
       "    <tr>\n",
       "      <th>3</th>\n",
       "      <td>-0.785558</td>\n",
       "      <td>0.316384</td>\n",
       "      <td>-0.587475</td>\n",
       "      <td>-0.821005</td>\n",
       "      <td>-0.009925</td>\n",
       "      <td>-0.152054</td>\n",
       "      <td>2.486945</td>\n",
       "      <td>1.685632</td>\n",
       "      <td>-0.000015</td>\n",
       "      <td>-0.104601</td>\n",
       "      <td>...</td>\n",
       "      <td>0.172015</td>\n",
       "      <td>-0.188255</td>\n",
       "      <td>-0.532056</td>\n",
       "      <td>-0.018402</td>\n",
       "      <td>-0.206236</td>\n",
       "      <td>2.359931</td>\n",
       "      <td>2.175786</td>\n",
       "      <td>0.002570</td>\n",
       "      <td>-0.109206</td>\n",
       "      <td>1</td>\n",
       "    </tr>\n",
       "    <tr>\n",
       "      <th>4</th>\n",
       "      <td>2.078309</td>\n",
       "      <td>-1.193573</td>\n",
       "      <td>2.102017</td>\n",
       "      <td>2.584438</td>\n",
       "      <td>0.327875</td>\n",
       "      <td>0.750470</td>\n",
       "      <td>1.818421</td>\n",
       "      <td>1.659821</td>\n",
       "      <td>0.071733</td>\n",
       "      <td>-0.568891</td>\n",
       "      <td>...</td>\n",
       "      <td>-1.513323</td>\n",
       "      <td>1.646690</td>\n",
       "      <td>2.078659</td>\n",
       "      <td>0.267431</td>\n",
       "      <td>-0.260319</td>\n",
       "      <td>0.785112</td>\n",
       "      <td>0.729259</td>\n",
       "      <td>-0.981094</td>\n",
       "      <td>-0.348151</td>\n",
       "      <td>1</td>\n",
       "    </tr>\n",
       "  </tbody>\n",
       "</table>\n",
       "<p>5 rows × 31 columns</p>\n",
       "</div>"
      ],
      "text/plain": [
       "   radius_mean  texture_mean  perimeter_mean  area_mean  smoothness_mean  \\\n",
       "0     1.335706     -2.183545        1.526900   1.477828         1.708051   \n",
       "1     2.168713     -0.336098        1.999151   2.692856        -0.858619   \n",
       "2     1.884587      0.533878        1.863554   2.233014         1.037027   \n",
       "3    -0.785558      0.316384       -0.587475  -0.821005        -0.009925   \n",
       "4     2.078309     -1.193573        2.102017   2.584438         0.327875   \n",
       "\n",
       "   compactness_mean  concavity_mean  concave points_mean  symmetry_mean  \\\n",
       "0         -0.152054       -0.283578             2.887302       2.646196   \n",
       "1         -0.466377        0.107062             0.680991       0.084394   \n",
       "2          1.359343        1.809179             2.336656       1.169045   \n",
       "3         -0.152054        2.486945             1.685632      -0.000015   \n",
       "4          0.750470        1.818421             1.659821       0.071733   \n",
       "\n",
       "   fractal_dimension_mean  ...  texture_worst  perimeter_worst  area_worst  \\\n",
       "0                2.837042  ...      -1.400167         2.761488   -0.224151   \n",
       "1               -0.938952  ...      -0.357761         1.873778   -0.224151   \n",
       "2               -0.370155  ...       0.005710         1.657012    2.425960   \n",
       "3               -0.104601  ...       0.172015        -0.188255   -0.532056   \n",
       "4               -0.568891  ...      -1.513323         1.646690    2.078659   \n",
       "\n",
       "   smoothness_worst  compactness_worst  concavity_worst  concave points_worst  \\\n",
       "0          1.429505          -0.206236         2.497158              2.296076   \n",
       "1         -0.369836          -0.404542        -0.084360              1.087084   \n",
       "2          0.595436           1.460157         1.061762              1.955000   \n",
       "3         -0.018402          -0.206236         2.359931              2.175786   \n",
       "4          0.267431          -0.260319         0.785112              0.729259   \n",
       "\n",
       "   symmetry_worst  fractal_dimension_worst  diagnosis  \n",
       "0        0.002570                 2.739080          1  \n",
       "1       -0.152067                 0.548993          1  \n",
       "2        1.701432                 0.443446          1  \n",
       "3        0.002570                -0.109206          1  \n",
       "4       -0.981094                -0.348151          1  \n",
       "\n",
       "[5 rows x 31 columns]"
      ]
     },
     "execution_count": 2,
     "metadata": {},
     "output_type": "execute_result"
    }
   ],
   "source": [
    "# Load dataset\n",
    "df= pd.read_csv('../data/scaled_data.csv')\n",
    "df.head(5)"
   ]
  },
  {
   "cell_type": "code",
   "execution_count": 4,
   "id": "77ffa6fc",
   "metadata": {},
   "outputs": [
    {
     "data": {
      "text/plain": [
       "(31,)"
      ]
     },
     "execution_count": 4,
     "metadata": {},
     "output_type": "execute_result"
    }
   ],
   "source": [
    "df.columns.shape"
   ]
  },
  {
   "cell_type": "code",
   "execution_count": 5,
   "id": "c4271efb",
   "metadata": {},
   "outputs": [],
   "source": [
    "# Features from Casual Graph\n",
    "casual_features = ['radius_mean',\n",
    " 'texture_mean',\n",
    " 'perimeter_mean',\n",
    " 'compactness_mean',\n",
    " 'concavity_mean',\n",
    " 'concave points_mean',\n",
    " 'symmetry_mean',\n",
    " 'fractal_dimension_mean',\n",
    " 'radius_se',\n",
    " 'texture_se',\n",
    " 'perimeter_se',\n",
    " 'area_se',\n",
    " 'concavity_se',\n",
    " 'radius_worst',\n",
    " 'texture_worst',\n",
    " 'perimeter_worst',\n",
    " 'area_worst',\n",
    " 'compactness_worst',\n",
    " 'concavity_worst',\n",
    " 'concave points_worst',\n",
    " 'symmetry_worst']"
   ]
  },
  {
   "cell_type": "markdown",
   "id": "737bac62",
   "metadata": {},
   "source": [
    "# Pipeline Using the whole Data"
   ]
  },
  {
   "cell_type": "code",
   "execution_count": 6,
   "id": "50629bf0",
   "metadata": {
    "scrolled": true
   },
   "outputs": [
    {
     "name": "stdout",
     "output_type": "stream",
     "text": [
      "X shape (569, 30)\n",
      "y shape (569,)\n",
      "X_train shape (549, 30)\n",
      "X_test shape (20, 30)\n",
      "y_train shape (549,)\n",
      "y_test shape (20,)\n"
     ]
    }
   ],
   "source": [
    "X= df.iloc[:,0:30]\n",
    "y= df['diagnosis']\n",
    "\n",
    "print('X shape',X.shape)\n",
    "print('y shape',y.shape)\n",
    "\n",
    "# train_test_split\n",
    "X_train, X_test, y_train, y_test = train_test_split(X,y, test_size=20, random_state= 30)\n",
    "\n",
    "print('X_train shape', X_train.shape)\n",
    "print('X_test shape', X_test.shape)\n",
    "print('y_train shape', y_train.shape)\n",
    "print('y_test shape', y_test.shape)"
   ]
  },
  {
   "cell_type": "markdown",
   "id": "38700ae2",
   "metadata": {},
   "source": [
    "# Logistic Regression"
   ]
  },
  {
   "cell_type": "code",
   "execution_count": 7,
   "id": "9b88053a",
   "metadata": {},
   "outputs": [],
   "source": [
    "# Pipeline Logistic Regression: \n",
    "\n",
    "pipeline_lr = Pipeline([\n",
    "    ('scaler1',StandardScaler()),\n",
    "    ('pca1', PCA(n_components=2)),\n",
    "    ('lr_classifier', LogisticRegression(random_state=0))\n",
    "])"
   ]
  },
  {
   "cell_type": "code",
   "execution_count": 16,
   "id": "2304df1a",
   "metadata": {
    "scrolled": true
   },
   "outputs": [
    {
     "data": {
      "text/plain": [
       "<AxesSubplot:>"
      ]
     },
     "execution_count": 16,
     "metadata": {},
     "output_type": "execute_result"
    },
    {
     "data": {
      "image/png": "[encoded data removed]",
      "text/plain": [
       "<Figure size 432x288 with 2 Axes>"
      ]
     },
     "metadata": {
      "needs_background": "light"
     },
     "output_type": "display_data"
    }
   ],
   "source": [
    "from sklearn.metrics import f1_score,confusion_matrix\n",
    "import seaborn as sns\n",
    "cm_2 = confusion_matrix(y_test,pipeline_lr.predict(X_test))\n",
    "sns.heatmap(cm_2,annot=True,fmt=\"d\")"
   ]
  },
  {
   "cell_type": "markdown",
   "id": "e8fcec29",
   "metadata": {},
   "source": [
    "# Decision Tree Classifier"
   ]
  },
  {
   "cell_type": "code",
   "execution_count": 8,
   "id": "5ad9a201",
   "metadata": {},
   "outputs": [],
   "source": [
    "# Pipeline Decision Tree Classifier:\n",
    "\n",
    "pipeline_dtc= Pipeline([\n",
    "    ('scaler2', StandardScaler()),\n",
    "    ('pca2', PCA(n_components=2)),\n",
    "    ('dt_classifier', DecisionTreeClassifier())\n",
    "])"
   ]
  },
  {
   "cell_type": "code",
   "execution_count": 17,
   "id": "f8036521",
   "metadata": {},
   "outputs": [
    {
     "data": {
      "text/plain": [
       "<AxesSubplot:>"
      ]
     },
     "execution_count": 17,
     "metadata": {},
     "output_type": "execute_result"
    },
    {
     "data": {
      "image/png": "[encoded data removed]",
      "text/plain": [
       "<Figure size 432x288 with 2 Axes>"
      ]
     },
     "metadata": {
      "needs_background": "light"
     },
     "output_type": "display_data"
    }
   ],
   "source": [
    "from sklearn.metrics import f1_score,confusion_matrix\n",
    "import seaborn as sns\n",
    "cm_2 = confusion_matrix(y_test,pipeline_dtc.predict(X_test))\n",
    "sns.heatmap(cm_2,annot=True,fmt=\"d\")"
   ]
  },
  {
   "cell_type": "markdown",
   "id": "cd14a196",
   "metadata": {},
   "source": [
    "# Random Forest Classifier"
   ]
  },
  {
   "cell_type": "code",
   "execution_count": 9,
   "id": "add0988d",
   "metadata": {},
   "outputs": [],
   "source": [
    "# Pipeline Random Forest Classifier:\n",
    "\n",
    "pipeline_rfc = Pipeline([\n",
    "    ('scaler3', StandardScaler()),\n",
    "    ('pca2', PCA(n_components=3)),\n",
    "    ('rf_classifier', RandomForestClassifier())\n",
    "])"
   ]
  },
  {
   "cell_type": "code",
   "execution_count": 18,
   "id": "b8e0189c",
   "metadata": {
    "scrolled": true
   },
   "outputs": [
    {
     "data": {
      "text/plain": [
       "<AxesSubplot:>"
      ]
     },
     "execution_count": 18,
     "metadata": {},
     "output_type": "execute_result"
    },
    {
     "data": {
      "image/png": "[encoded data removed]",
      "text/plain": [
       "<Figure size 432x288 with 2 Axes>"
      ]
     },
     "metadata": {
      "needs_background": "light"
     },
     "output_type": "display_data"
    }
   ],
   "source": [
    "from sklearn.metrics import f1_score,confusion_matrix\n",
    "import seaborn as sns\n",
    "cm_2 = confusion_matrix(y_test,pipeline_rfc.predict(X_test))\n",
    "sns.heatmap(cm_2,annot=True,fmt=\"d\")"
   ]
  },
  {
   "cell_type": "code",
   "execution_count": 10,
   "id": "b4526bc8",
   "metadata": {},
   "outputs": [],
   "source": [
    "# Make the list of pipeline: \n",
    "\n",
    "pipeline = [pipeline_lr,pipeline_dtc,pipeline_rfc]\n",
    "\n",
    "best_accuracy = 0.0\n",
    "best_classifier= 0\n",
    "best_pipeline = \"\""
   ]
  },
  {
   "cell_type": "code",
   "execution_count": 11,
   "id": "27f01714",
   "metadata": {},
   "outputs": [],
   "source": [
    "# Dictionary of pipeline and classifier types for ease of reference:\n",
    "\n",
    "pipe_dict = { 0: 'Logistic Regression', 1: 'Decision Tree', 2:'RandomForest'}\n",
    "\n",
    "# fit the pipleline \n",
    "for pipe in pipeline:\n",
    "    pipe.fit(X_train, y_train)"
   ]
  },
  {
   "cell_type": "code",
   "execution_count": 12,
   "id": "aea470bc",
   "metadata": {},
   "outputs": [
    {
     "name": "stdout",
     "output_type": "stream",
     "text": [
      "Logistic Regression Test Accuracy: 0.9\n",
      "Decision Tree Test Accuracy: 0.95\n",
      "RandomForest Test Accuracy: 0.9\n"
     ]
    }
   ],
   "source": [
    "for i, model in enumerate(pipeline):\n",
    "    print('{} Test Accuracy: {}'.format(pipe_dict[i],model.score(X_test, y_test)))"
   ]
  },
  {
   "cell_type": "code",
   "execution_count": 13,
   "id": "d2519f0e",
   "metadata": {},
   "outputs": [
    {
     "name": "stdout",
     "output_type": "stream",
     "text": [
      "classifier with best accuracy:Decision Tree\n"
     ]
    }
   ],
   "source": [
    "for i, model in enumerate(pipeline):\n",
    "    if model.score(X_test, y_test) > best_accuracy:\n",
    "        best_accuracy= model.score(X_test, y_test)\n",
    "        best_pipeline= model\n",
    "        best_classifier= i\n",
    "print('classifier with best accuracy:{}'.format(pipe_dict[best_classifier]))"
   ]
  },
  {
   "cell_type": "markdown",
   "id": "322905bb",
   "metadata": {},
   "source": [
    "# Pipeline Using features extracted from casual graph"
   ]
  }
 ],
 "metadata": {
  "kernelspec": {
   "display_name": "Python 3 (ipykernel)",
   "language": "python",
   "name": "python3"
  },
  "language_info": {
   "codemirror_mode": {
    "name": "ipython",
    "version": 3
   },
   "file_extension": ".py",
   "mimetype": "text/x-python",
   "name": "python",
   "nbconvert_exporter": "python",
   "pygments_lexer": "ipython3",
   "version": "3.9.7"
  }
 },
 "nbformat": 4,
 "nbformat_minor": 5
}
