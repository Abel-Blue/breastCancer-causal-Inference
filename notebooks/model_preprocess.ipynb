{
 "cells": [
  {
   "cell_type": "markdown",
   "id": "8db8d4cd",
   "metadata": {},
   "source": [
    "# Model Preprocess"
   ]
  },
  {
   "cell_type": "markdown",
   "id": "b150e142",
   "metadata": {},
   "source": [
    "## Load Data"
   ]
  },
  {
   "cell_type": "markdown",
   "id": "4fdaf212",
   "metadata": {},
   "source": [
    "## Data Info"
   ]
  },
  {
   "cell_type": "markdown",
   "id": "83568e64",
   "metadata": {},
   "source": [
    "## Feature Extraction"
   ]
  },
  {
   "cell_type": "markdown",
   "id": "c5e65b2e",
   "metadata": {},
   "source": [
    "## Fix Outliers"
   ]
  },
  {
   "cell_type": "markdown",
   "id": "6809c017",
   "metadata": {},
   "source": [
    "## Scale"
   ]
  },
  {
   "cell_type": "markdown",
   "id": "090cf948",
   "metadata": {},
   "source": [
    "## Save Pre-Processed Data"
   ]
  }
 ],
 "metadata": {
  "kernelspec": {
   "display_name": "Python 3 (ipykernel)",
   "language": "python",
   "name": "python3"
  },
  "language_info": {
   "codemirror_mode": {
    "name": "ipython",
    "version": 3
   },
   "file_extension": ".py",
   "mimetype": "text/x-python",
   "name": "python",
   "nbconvert_exporter": "python",
   "pygments_lexer": "ipython3",
   "version": "3.9.7"
  }
 },
 "nbformat": 4,
 "nbformat_minor": 5
}
