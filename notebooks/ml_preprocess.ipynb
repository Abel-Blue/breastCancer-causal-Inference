{
 "cells": [
  {
   "cell_type": "markdown",
   "id": "514dc715",
   "metadata": {},
   "source": [
    "# ML Preprocess"
   ]
  },
  {
   "cell_type": "markdown",
   "id": "78d847c0",
   "metadata": {},
   "source": [
    "## Load Data"
   ]
  },
  {
   "cell_type": "markdown",
   "id": "f567e8d0",
   "metadata": {},
   "source": [
    "## Data Information"
   ]
  },
  {
   "cell_type": "markdown",
   "id": "e0fd5fdf",
   "metadata": {},
   "source": [
    "## Feature Extraction"
   ]
  },
  {
   "cell_type": "markdown",
   "id": "d0437bbf",
   "metadata": {},
   "source": [
    "## Fix Outliers"
   ]
  },
  {
   "cell_type": "markdown",
   "id": "ab6d8a3f",
   "metadata": {},
   "source": [
    "## Scale Data"
   ]
  },
  {
   "cell_type": "markdown",
   "id": "499d94d5",
   "metadata": {},
   "source": [
    "## Save Pre-Processed Data"
   ]
  }
 ],
 "metadata": {
  "kernelspec": {
   "display_name": "Python 3 (ipykernel)",
   "language": "python",
   "name": "python3"
  },
  "language_info": {
   "codemirror_mode": {
    "name": "ipython",
    "version": 3
   },
   "file_extension": ".py",
   "mimetype": "text/x-python",
   "name": "python",
   "nbconvert_exporter": "python",
   "pygments_lexer": "ipython3",
   "version": "3.9.7"
  }
 },
 "nbformat": 4,
 "nbformat_minor": 5
}
