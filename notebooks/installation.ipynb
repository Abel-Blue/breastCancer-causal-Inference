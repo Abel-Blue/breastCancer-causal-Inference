{
 "cells": [
  {
   "cell_type": "code",
   "execution_count": 1,
   "metadata": {},
   "outputs": [
    {
     "name": "stdout",
     "output_type": "stream",
     "text": [
      "# conda environments:\n",
      "#\n",
      "base                     /home/abel-ubuntu/anaconda3\n",
      "causality             *  /home/abel-ubuntu/anaconda3/envs/causality\n",
      "lidar                    /home/abel-ubuntu/anaconda3/envs/lidar\n",
      "streamlit                /home/abel-ubuntu/anaconda3/envs/streamlit\n",
      "\n"
     ]
    }
   ],
   "source": [
    "!conda env list"
   ]
  },
  {
   "cell_type": "code",
   "execution_count": 2,
   "metadata": {},
   "outputs": [
    {
     "name": "stdout",
     "output_type": "stream",
     "text": [
      "\n",
      "CommandNotFoundError: Your shell has not been properly configured to use 'conda activate'.\n",
      "To initialize your shell, run\n",
      "\n",
      "    $ conda init <SHELL_NAME>\n",
      "\n",
      "Currently supported shells are:\n",
      "  - bash\n",
      "  - fish\n",
      "  - tcsh\n",
      "  - xonsh\n",
      "  - zsh\n",
      "  - powershell\n",
      "\n",
      "See 'conda init --help' for more information and options.\n",
      "\n",
      "IMPORTANT: You may need to close and restart your shell after running 'conda init'.\n",
      "\n",
      "\n"
     ]
    }
   ],
   "source": [
    "!conda activate causality"
   ]
  },
  {
   "cell_type": "code",
   "execution_count": 3,
   "metadata": {},
   "outputs": [
    {
     "name": "stdout",
     "output_type": "stream",
     "text": [
      "no change     /home/abel-ubuntu/anaconda3/condabin/conda\n",
      "no change     /home/abel-ubuntu/anaconda3/bin/conda\n",
      "no change     /home/abel-ubuntu/anaconda3/bin/conda-env\n",
      "no change     /home/abel-ubuntu/anaconda3/bin/activate\n",
      "no change     /home/abel-ubuntu/anaconda3/bin/deactivate\n",
      "no change     /home/abel-ubuntu/anaconda3/etc/profile.d/conda.sh\n",
      "no change     /home/abel-ubuntu/anaconda3/etc/fish/conf.d/conda.fish\n",
      "no change     /home/abel-ubuntu/anaconda3/shell/condabin/Conda.psm1\n",
      "no change     /home/abel-ubuntu/anaconda3/shell/condabin/conda-hook.ps1\n",
      "no change     /home/abel-ubuntu/anaconda3/lib/python3.9/site-packages/xontrib/conda.xsh\n",
      "no change     /home/abel-ubuntu/anaconda3/etc/profile.d/conda.csh\n",
      "no change     /home/abel-ubuntu/.zshrc\n",
      "No action taken.\n"
     ]
    }
   ],
   "source": [
    "!conda init zsh"
   ]
  },
  {
   "cell_type": "code",
   "execution_count": 9,
   "metadata": {},
   "outputs": [
    {
     "name": "stdout",
     "output_type": "stream",
     "text": [
      "pip 21.2.4 from /home/abel-ubuntu/anaconda3/envs/causality/lib/python3.8/site-packages/pip (python 3.8)\n"
     ]
    }
   ],
   "source": [
    "!pip --version"
   ]
  },
  {
   "cell_type": "code",
   "execution_count": null,
   "metadata": {},
   "outputs": [],
   "source": []
  }
 ],
 "metadata": {
  "kernelspec": {
   "display_name": "Python 3.8.13 ('causality')",
   "language": "python",
   "name": "python3"
  },
  "language_info": {
   "codemirror_mode": {
    "name": "ipython",
    "version": 3
   },
   "file_extension": ".py",
   "mimetype": "text/x-python",
   "name": "python",
   "nbconvert_exporter": "python",
   "pygments_lexer": "ipython3",
   "version": "3.8.13"
  },
  "orig_nbformat": 4,
  "vscode": {
   "interpreter": {
    "hash": "27d9e913059f9ff25bbad42a474c68f550581e2091bf6c89ed3b047c2d3c55aa"
   }
  }
 },
 "nbformat": 4,
 "nbformat_minor": 2
}
